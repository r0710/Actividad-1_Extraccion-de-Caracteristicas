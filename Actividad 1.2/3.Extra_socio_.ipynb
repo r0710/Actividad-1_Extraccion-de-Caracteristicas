{
 "cells": [
  {
   "cell_type": "code",
   "execution_count": 55,
   "metadata": {},
   "outputs": [],
   "source": [
    "import pandas as pd\n",
    "import numpy as np\n",
    "import matplotlib.pyplot as plt\n",
    "from funpymodeling.exploratory import freq_tbl"
   ]
  },
  {
   "cell_type": "code",
   "execution_count": 56,
   "metadata": {},
   "outputs": [
    {
     "data": {
      "text/html": [
       "<div>\n",
       "<style scoped>\n",
       "    .dataframe tbody tr th:only-of-type {\n",
       "        vertical-align: middle;\n",
       "    }\n",
       "\n",
       "    .dataframe tbody tr th {\n",
       "        vertical-align: top;\n",
       "    }\n",
       "\n",
       "    .dataframe thead th {\n",
       "        text-align: right;\n",
       "    }\n",
       "</style>\n",
       "<table border=\"1\" class=\"dataframe\">\n",
       "  <thead>\n",
       "    <tr style=\"text-align: right;\">\n",
       "      <th></th>\n",
       "      <th>Administrador</th>\n",
       "      <th>Usuario</th>\n",
       "      <th>botón correcto</th>\n",
       "      <th>tiempo de interacción</th>\n",
       "      <th>mini juego</th>\n",
       "      <th>número de interacción</th>\n",
       "      <th>color presionado</th>\n",
       "      <th>dificultad</th>\n",
       "      <th>fecha</th>\n",
       "      <th>Juego</th>\n",
       "      <th>auto push</th>\n",
       "      <th>tiempo de lección</th>\n",
       "      <th>tiempo de sesión</th>\n",
       "    </tr>\n",
       "  </thead>\n",
       "  <tbody>\n",
       "    <tr>\n",
       "      <th>0</th>\n",
       "      <td>nicolas</td>\n",
       "      <td>nicolas</td>\n",
       "      <td>1.0</td>\n",
       "      <td>5.399169</td>\n",
       "      <td>Despegue</td>\n",
       "      <td>1.0</td>\n",
       "      <td>blue</td>\n",
       "      <td>Episodio 1</td>\n",
       "      <td>25/01/2024 09:26:42 a. m.</td>\n",
       "      <td>Astro</td>\n",
       "      <td>0.0</td>\n",
       "      <td>0.000000</td>\n",
       "      <td>0.000000</td>\n",
       "    </tr>\n",
       "    <tr>\n",
       "      <th>1</th>\n",
       "      <td>nicolas</td>\n",
       "      <td>nicolas</td>\n",
       "      <td>0.0</td>\n",
       "      <td>1.283400</td>\n",
       "      <td>Despegue</td>\n",
       "      <td>2.0</td>\n",
       "      <td>violet</td>\n",
       "      <td>Episodio 1</td>\n",
       "      <td>25/01/2024 09:26:46 a. m.</td>\n",
       "      <td>Astro</td>\n",
       "      <td>0.0</td>\n",
       "      <td>0.000000</td>\n",
       "      <td>0.000000</td>\n",
       "    </tr>\n",
       "    <tr>\n",
       "      <th>2</th>\n",
       "      <td>nicolas</td>\n",
       "      <td>nicolas</td>\n",
       "      <td>1.0</td>\n",
       "      <td>2.700226</td>\n",
       "      <td>Despegue</td>\n",
       "      <td>3.0</td>\n",
       "      <td>green</td>\n",
       "      <td>Episodio 1</td>\n",
       "      <td>25/01/2024 09:26:48 a. m.</td>\n",
       "      <td>Astro</td>\n",
       "      <td>0.0</td>\n",
       "      <td>0.000000</td>\n",
       "      <td>0.000000</td>\n",
       "    </tr>\n",
       "    <tr>\n",
       "      <th>3</th>\n",
       "      <td>nicolas</td>\n",
       "      <td>nicolas</td>\n",
       "      <td>0.0</td>\n",
       "      <td>3.050262</td>\n",
       "      <td>Despegue</td>\n",
       "      <td>4.0</td>\n",
       "      <td>green</td>\n",
       "      <td>Episodio 1</td>\n",
       "      <td>25/01/2024 09:26:57 a. m.</td>\n",
       "      <td>Astro</td>\n",
       "      <td>0.0</td>\n",
       "      <td>0.000000</td>\n",
       "      <td>0.000000</td>\n",
       "    </tr>\n",
       "    <tr>\n",
       "      <th>4</th>\n",
       "      <td>nicolas</td>\n",
       "      <td>nicolas</td>\n",
       "      <td>0.0</td>\n",
       "      <td>4.750256</td>\n",
       "      <td>Despegue</td>\n",
       "      <td>5.0</td>\n",
       "      <td>green</td>\n",
       "      <td>Episodio 1</td>\n",
       "      <td>25/01/2024 09:26:58 a. m.</td>\n",
       "      <td>Astro</td>\n",
       "      <td>0.0</td>\n",
       "      <td>0.000000</td>\n",
       "      <td>0.000000</td>\n",
       "    </tr>\n",
       "    <tr>\n",
       "      <th>...</th>\n",
       "      <td>...</td>\n",
       "      <td>...</td>\n",
       "      <td>...</td>\n",
       "      <td>...</td>\n",
       "      <td>...</td>\n",
       "      <td>...</td>\n",
       "      <td>...</td>\n",
       "      <td>...</td>\n",
       "      <td>...</td>\n",
       "      <td>...</td>\n",
       "      <td>...</td>\n",
       "      <td>...</td>\n",
       "      <td>...</td>\n",
       "    </tr>\n",
       "    <tr>\n",
       "      <th>5860</th>\n",
       "      <td>ALEIDA</td>\n",
       "      <td>ESMERALDA</td>\n",
       "      <td>NaN</td>\n",
       "      <td>NaN</td>\n",
       "      <td>NaN</td>\n",
       "      <td>NaN</td>\n",
       "      <td>NaN</td>\n",
       "      <td>Episodio 1</td>\n",
       "      <td>28/05/2024 04:15:49 p. m.</td>\n",
       "      <td>Astro</td>\n",
       "      <td>NaN</td>\n",
       "      <td>NaN</td>\n",
       "      <td>332.240000</td>\n",
       "    </tr>\n",
       "    <tr>\n",
       "      <th>5861</th>\n",
       "      <td>ALEIDA</td>\n",
       "      <td>JOSE JAVIER</td>\n",
       "      <td>0.0</td>\n",
       "      <td>2.135419</td>\n",
       "      <td>Asteroides</td>\n",
       "      <td>1.0</td>\n",
       "      <td>green</td>\n",
       "      <td>Episodio 3</td>\n",
       "      <td>04/06/2024 11:09:54 a. m.</td>\n",
       "      <td>Astro</td>\n",
       "      <td>0.0</td>\n",
       "      <td>0.000000</td>\n",
       "      <td>0.000000</td>\n",
       "    </tr>\n",
       "    <tr>\n",
       "      <th>5862</th>\n",
       "      <td>ALEIDA</td>\n",
       "      <td>JOSE JAVIER</td>\n",
       "      <td>NaN</td>\n",
       "      <td>NaN</td>\n",
       "      <td>Asteroides</td>\n",
       "      <td>NaN</td>\n",
       "      <td>NaN</td>\n",
       "      <td>Episodio 3</td>\n",
       "      <td>04/06/2024 11:09:58 a. m.</td>\n",
       "      <td>Astro</td>\n",
       "      <td>NaN</td>\n",
       "      <td>2.271806</td>\n",
       "      <td>NaN</td>\n",
       "    </tr>\n",
       "    <tr>\n",
       "      <th>5863</th>\n",
       "      <td>ALEIDA</td>\n",
       "      <td>JOSE JAVIER</td>\n",
       "      <td>NaN</td>\n",
       "      <td>NaN</td>\n",
       "      <td>NaN</td>\n",
       "      <td>NaN</td>\n",
       "      <td>NaN</td>\n",
       "      <td>Episodio 3</td>\n",
       "      <td>04/06/2024 11:09:58 a. m.</td>\n",
       "      <td>Astro</td>\n",
       "      <td>NaN</td>\n",
       "      <td>NaN</td>\n",
       "      <td>6.478299</td>\n",
       "    </tr>\n",
       "    <tr>\n",
       "      <th>5864</th>\n",
       "      <td>ALEIDA</td>\n",
       "      <td>JOSE JAVIER</td>\n",
       "      <td>NaN</td>\n",
       "      <td>NaN</td>\n",
       "      <td>MiniGame_0</td>\n",
       "      <td>NaN</td>\n",
       "      <td>NaN</td>\n",
       "      <td>Episodio 3</td>\n",
       "      <td>04/06/2024 11:09:59 a. m.</td>\n",
       "      <td>Astro</td>\n",
       "      <td>NaN</td>\n",
       "      <td>NaN</td>\n",
       "      <td>NaN</td>\n",
       "    </tr>\n",
       "  </tbody>\n",
       "</table>\n",
       "<p>5865 rows × 13 columns</p>\n",
       "</div>"
      ],
      "text/plain": [
       "     Administrador       Usuario  botón correcto  tiempo de interacción  \\\n",
       "0          nicolas       nicolas             1.0               5.399169   \n",
       "1          nicolas       nicolas             0.0               1.283400   \n",
       "2          nicolas       nicolas             1.0               2.700226   \n",
       "3          nicolas       nicolas             0.0               3.050262   \n",
       "4          nicolas       nicolas             0.0               4.750256   \n",
       "...            ...           ...             ...                    ...   \n",
       "5860        ALEIDA     ESMERALDA             NaN                    NaN   \n",
       "5861        ALEIDA  JOSE JAVIER              0.0               2.135419   \n",
       "5862        ALEIDA  JOSE JAVIER              NaN                    NaN   \n",
       "5863        ALEIDA  JOSE JAVIER              NaN                    NaN   \n",
       "5864        ALEIDA  JOSE JAVIER              NaN                    NaN   \n",
       "\n",
       "      mini juego  número de interacción color presionado  dificultad  \\\n",
       "0       Despegue                    1.0             blue  Episodio 1   \n",
       "1       Despegue                    2.0           violet  Episodio 1   \n",
       "2       Despegue                    3.0            green  Episodio 1   \n",
       "3       Despegue                    4.0            green  Episodio 1   \n",
       "4       Despegue                    5.0            green  Episodio 1   \n",
       "...          ...                    ...              ...         ...   \n",
       "5860         NaN                    NaN              NaN  Episodio 1   \n",
       "5861  Asteroides                    1.0            green  Episodio 3   \n",
       "5862  Asteroides                    NaN              NaN  Episodio 3   \n",
       "5863         NaN                    NaN              NaN  Episodio 3   \n",
       "5864  MiniGame_0                    NaN              NaN  Episodio 3   \n",
       "\n",
       "                          fecha  Juego  auto push  tiempo de lección  \\\n",
       "0     25/01/2024 09:26:42 a. m.  Astro        0.0           0.000000   \n",
       "1     25/01/2024 09:26:46 a. m.  Astro        0.0           0.000000   \n",
       "2     25/01/2024 09:26:48 a. m.  Astro        0.0           0.000000   \n",
       "3     25/01/2024 09:26:57 a. m.  Astro        0.0           0.000000   \n",
       "4     25/01/2024 09:26:58 a. m.  Astro        0.0           0.000000   \n",
       "...                         ...    ...        ...                ...   \n",
       "5860  28/05/2024 04:15:49 p. m.  Astro        NaN                NaN   \n",
       "5861  04/06/2024 11:09:54 a. m.  Astro        0.0           0.000000   \n",
       "5862  04/06/2024 11:09:58 a. m.  Astro        NaN           2.271806   \n",
       "5863  04/06/2024 11:09:58 a. m.  Astro        NaN                NaN   \n",
       "5864  04/06/2024 11:09:59 a. m.  Astro        NaN                NaN   \n",
       "\n",
       "      tiempo de sesión  \n",
       "0             0.000000  \n",
       "1             0.000000  \n",
       "2             0.000000  \n",
       "3             0.000000  \n",
       "4             0.000000  \n",
       "...                ...  \n",
       "5860        332.240000  \n",
       "5861          0.000000  \n",
       "5862               NaN  \n",
       "5863          6.478299  \n",
       "5864               NaN  \n",
       "\n",
       "[5865 rows x 13 columns]"
      ]
     },
     "execution_count": 56,
     "metadata": {},
     "output_type": "execute_result"
    }
   ],
   "source": [
    "# Verificar sin indice \n",
    "df= pd.read_csv('DataAnalytics.csv')\n",
    "df"
   ]
  },
  {
   "cell_type": "code",
   "execution_count": 57,
   "metadata": {},
   "outputs": [
    {
     "data": {
      "text/html": [
       "<div>\n",
       "<style scoped>\n",
       "    .dataframe tbody tr th:only-of-type {\n",
       "        vertical-align: middle;\n",
       "    }\n",
       "\n",
       "    .dataframe tbody tr th {\n",
       "        vertical-align: top;\n",
       "    }\n",
       "\n",
       "    .dataframe thead th {\n",
       "        text-align: right;\n",
       "    }\n",
       "</style>\n",
       "<table border=\"1\" class=\"dataframe\">\n",
       "  <thead>\n",
       "    <tr style=\"text-align: right;\">\n",
       "      <th></th>\n",
       "      <th>Administrador</th>\n",
       "      <th>Usuario</th>\n",
       "      <th>botón correcto</th>\n",
       "      <th>tiempo de interacción</th>\n",
       "      <th>mini juego</th>\n",
       "      <th>número de interacción</th>\n",
       "      <th>color presionado</th>\n",
       "      <th>dificultad</th>\n",
       "      <th>fecha</th>\n",
       "      <th>Juego</th>\n",
       "      <th>auto push</th>\n",
       "      <th>tiempo de lección</th>\n",
       "      <th>tiempo de sesión</th>\n",
       "    </tr>\n",
       "  </thead>\n",
       "  <tbody>\n",
       "    <tr>\n",
       "      <th>0</th>\n",
       "      <td>nicolas</td>\n",
       "      <td>nicolas</td>\n",
       "      <td>1.0</td>\n",
       "      <td>5.399169</td>\n",
       "      <td>Despegue</td>\n",
       "      <td>1.0</td>\n",
       "      <td>blue</td>\n",
       "      <td>Episodio 1</td>\n",
       "      <td>25/01/2024 09:26:42 a. m.</td>\n",
       "      <td>Astro</td>\n",
       "      <td>0.0</td>\n",
       "      <td>0.0</td>\n",
       "      <td>0.0</td>\n",
       "    </tr>\n",
       "    <tr>\n",
       "      <th>1</th>\n",
       "      <td>nicolas</td>\n",
       "      <td>nicolas</td>\n",
       "      <td>0.0</td>\n",
       "      <td>1.283400</td>\n",
       "      <td>Despegue</td>\n",
       "      <td>2.0</td>\n",
       "      <td>violet</td>\n",
       "      <td>Episodio 1</td>\n",
       "      <td>25/01/2024 09:26:46 a. m.</td>\n",
       "      <td>Astro</td>\n",
       "      <td>0.0</td>\n",
       "      <td>0.0</td>\n",
       "      <td>0.0</td>\n",
       "    </tr>\n",
       "    <tr>\n",
       "      <th>2</th>\n",
       "      <td>nicolas</td>\n",
       "      <td>nicolas</td>\n",
       "      <td>1.0</td>\n",
       "      <td>2.700226</td>\n",
       "      <td>Despegue</td>\n",
       "      <td>3.0</td>\n",
       "      <td>green</td>\n",
       "      <td>Episodio 1</td>\n",
       "      <td>25/01/2024 09:26:48 a. m.</td>\n",
       "      <td>Astro</td>\n",
       "      <td>0.0</td>\n",
       "      <td>0.0</td>\n",
       "      <td>0.0</td>\n",
       "    </tr>\n",
       "    <tr>\n",
       "      <th>3</th>\n",
       "      <td>nicolas</td>\n",
       "      <td>nicolas</td>\n",
       "      <td>0.0</td>\n",
       "      <td>3.050262</td>\n",
       "      <td>Despegue</td>\n",
       "      <td>4.0</td>\n",
       "      <td>green</td>\n",
       "      <td>Episodio 1</td>\n",
       "      <td>25/01/2024 09:26:57 a. m.</td>\n",
       "      <td>Astro</td>\n",
       "      <td>0.0</td>\n",
       "      <td>0.0</td>\n",
       "      <td>0.0</td>\n",
       "    </tr>\n",
       "    <tr>\n",
       "      <th>4</th>\n",
       "      <td>nicolas</td>\n",
       "      <td>nicolas</td>\n",
       "      <td>0.0</td>\n",
       "      <td>4.750256</td>\n",
       "      <td>Despegue</td>\n",
       "      <td>5.0</td>\n",
       "      <td>green</td>\n",
       "      <td>Episodio 1</td>\n",
       "      <td>25/01/2024 09:26:58 a. m.</td>\n",
       "      <td>Astro</td>\n",
       "      <td>0.0</td>\n",
       "      <td>0.0</td>\n",
       "      <td>0.0</td>\n",
       "    </tr>\n",
       "  </tbody>\n",
       "</table>\n",
       "</div>"
      ],
      "text/plain": [
       "  Administrador  Usuario  botón correcto  tiempo de interacción mini juego  \\\n",
       "0       nicolas  nicolas             1.0               5.399169   Despegue   \n",
       "1       nicolas  nicolas             0.0               1.283400   Despegue   \n",
       "2       nicolas  nicolas             1.0               2.700226   Despegue   \n",
       "3       nicolas  nicolas             0.0               3.050262   Despegue   \n",
       "4       nicolas  nicolas             0.0               4.750256   Despegue   \n",
       "\n",
       "   número de interacción color presionado  dificultad  \\\n",
       "0                    1.0             blue  Episodio 1   \n",
       "1                    2.0           violet  Episodio 1   \n",
       "2                    3.0            green  Episodio 1   \n",
       "3                    4.0            green  Episodio 1   \n",
       "4                    5.0            green  Episodio 1   \n",
       "\n",
       "                       fecha  Juego  auto push  tiempo de lección  \\\n",
       "0  25/01/2024 09:26:42 a. m.  Astro        0.0                0.0   \n",
       "1  25/01/2024 09:26:46 a. m.  Astro        0.0                0.0   \n",
       "2  25/01/2024 09:26:48 a. m.  Astro        0.0                0.0   \n",
       "3  25/01/2024 09:26:57 a. m.  Astro        0.0                0.0   \n",
       "4  25/01/2024 09:26:58 a. m.  Astro        0.0                0.0   \n",
       "\n",
       "   tiempo de sesión  \n",
       "0               0.0  \n",
       "1               0.0  \n",
       "2               0.0  \n",
       "3               0.0  \n",
       "4               0.0  "
      ]
     },
     "execution_count": 57,
     "metadata": {},
     "output_type": "execute_result"
    }
   ],
   "source": [
    "#Primeras 5 filas por default\n",
    "df.head()"
   ]
  },
  {
   "cell_type": "code",
   "execution_count": 58,
   "metadata": {},
   "outputs": [
    {
     "name": "stdout",
     "output_type": "stream",
     "text": [
      "<class 'pandas.core.frame.DataFrame'>\n",
      "RangeIndex: 5865 entries, 0 to 5864\n",
      "Data columns (total 13 columns):\n",
      " #   Column                 Non-Null Count  Dtype  \n",
      "---  ------                 --------------  -----  \n",
      " 0   Administrador          5865 non-null   object \n",
      " 1   Usuario                5865 non-null   object \n",
      " 2   botón correcto         5103 non-null   float64\n",
      " 3   tiempo de interacción  5103 non-null   float64\n",
      " 4   mini juego             5709 non-null   object \n",
      " 5   número de interacción  5103 non-null   float64\n",
      " 6   color presionado       5103 non-null   object \n",
      " 7   dificultad             5865 non-null   object \n",
      " 8   fecha                  5865 non-null   object \n",
      " 9   Juego                  5865 non-null   object \n",
      " 10  auto push              5103 non-null   float64\n",
      " 11  tiempo de lección      5688 non-null   float64\n",
      " 12  tiempo de sesión       5259 non-null   float64\n",
      "dtypes: float64(6), object(7)\n",
      "memory usage: 595.8+ KB\n"
     ]
    }
   ],
   "source": [
    "df.info()"
   ]
  },
  {
   "cell_type": "code",
   "execution_count": 59,
   "metadata": {},
   "outputs": [
    {
     "data": {
      "text/plain": [
       "Administrador              0\n",
       "Usuario                    0\n",
       "botón correcto           762\n",
       "tiempo de interacción    762\n",
       "mini juego               156\n",
       "número de interacción    762\n",
       "color presionado         762\n",
       "dificultad                 0\n",
       "fecha                      0\n",
       "Juego                      0\n",
       "auto push                762\n",
       "tiempo de lección        177\n",
       "tiempo de sesión         606\n",
       "dtype: int64"
      ]
     },
     "execution_count": 59,
     "metadata": {},
     "output_type": "execute_result"
    }
   ],
   "source": [
    "df.isnull().sum()"
   ]
  },
  {
   "cell_type": "code",
   "execution_count": 60,
   "metadata": {},
   "outputs": [],
   "source": [
    "#Convertir fecha tipo object a datetime\n",
    "df['fecha'] = pd.to_datetime(df['fecha'],format='mixed') #mixed para que Pandas detecte automaticamente"
   ]
  },
  {
   "cell_type": "code",
   "execution_count": 61,
   "metadata": {},
   "outputs": [],
   "source": [
    "#Volver binarias las dos columnas porque los SF dijeron que solo hay opcion 1 y 0, y el dataframe los detecta como float\n",
    "binarias = ['botón correcto', 'auto push']\n",
    "#Método para rellenar nulos, con el de constante. Pusimos 0 porque demuestra que no se activa el boton y el auto push.\n",
    "df[binarias] = df[binarias].fillna(2).astype(int)"
   ]
  },
  {
   "cell_type": "code",
   "execution_count": 62,
   "metadata": {},
   "outputs": [],
   "source": [
    "#Método para rellenar nulos, con el de constante. Pusimos 0 porque demuestra que no se activa el boton y el auto push.\n",
    "df['tiempo de interacción'] = df['tiempo de interacción'].fillna(0)"
   ]
  },
  {
   "cell_type": "code",
   "execution_count": 63,
   "metadata": {},
   "outputs": [],
   "source": [
    "#Método para rellenar nulos, con el de constante. Pusimos 0 porque demuestra que no se activa el boton y el auto push.\n",
    "df['mini juego'] = df['mini juego'].fillna('Sin interacción')"
   ]
  },
  {
   "cell_type": "code",
   "execution_count": 64,
   "metadata": {},
   "outputs": [],
   "source": [
    "\n",
    "df['número de interacción'] = df['número de interacción'].fillna(0)"
   ]
  },
  {
   "cell_type": "code",
   "execution_count": 65,
   "metadata": {},
   "outputs": [],
   "source": [
    "\n",
    "df['color presionado'] = df['color presionado'].fillna('sin color')"
   ]
  },
  {
   "cell_type": "code",
   "execution_count": 66,
   "metadata": {},
   "outputs": [],
   "source": [
    "\n",
    "df['tiempo de lección'] = df['tiempo de lección'].fillna(0)"
   ]
  },
  {
   "cell_type": "code",
   "execution_count": 67,
   "metadata": {},
   "outputs": [],
   "source": [
    "\n",
    "df['tiempo de sesión'] = df['tiempo de sesión'].fillna(0)"
   ]
  },
  {
   "cell_type": "code",
   "execution_count": 68,
   "metadata": {},
   "outputs": [
    {
     "data": {
      "text/plain": [
       "Administrador            0\n",
       "Usuario                  0\n",
       "botón correcto           0\n",
       "tiempo de interacción    0\n",
       "mini juego               0\n",
       "número de interacción    0\n",
       "color presionado         0\n",
       "dificultad               0\n",
       "fecha                    0\n",
       "Juego                    0\n",
       "auto push                0\n",
       "tiempo de lección        0\n",
       "tiempo de sesión         0\n",
       "dtype: int64"
      ]
     },
     "execution_count": 68,
     "metadata": {},
     "output_type": "execute_result"
    }
   ],
   "source": [
    "df.isnull().sum()"
   ]
  },
  {
   "cell_type": "code",
   "execution_count": 69,
   "metadata": {},
   "outputs": [
    {
     "name": "stdout",
     "output_type": "stream",
     "text": [
      "<class 'pandas.core.frame.DataFrame'>\n",
      "RangeIndex: 5865 entries, 0 to 5864\n",
      "Data columns (total 13 columns):\n",
      " #   Column                 Non-Null Count  Dtype         \n",
      "---  ------                 --------------  -----         \n",
      " 0   Administrador          5865 non-null   object        \n",
      " 1   Usuario                5865 non-null   object        \n",
      " 2   botón correcto         5865 non-null   int64         \n",
      " 3   tiempo de interacción  5865 non-null   float64       \n",
      " 4   mini juego             5865 non-null   object        \n",
      " 5   número de interacción  5865 non-null   float64       \n",
      " 6   color presionado       5865 non-null   object        \n",
      " 7   dificultad             5865 non-null   object        \n",
      " 8   fecha                  5865 non-null   datetime64[ns]\n",
      " 9   Juego                  5865 non-null   object        \n",
      " 10  auto push              5865 non-null   int64         \n",
      " 11  tiempo de lección      5865 non-null   float64       \n",
      " 12  tiempo de sesión       5865 non-null   float64       \n",
      "dtypes: datetime64[ns](1), float64(4), int64(2), object(6)\n",
      "memory usage: 595.8+ KB\n"
     ]
    }
   ],
   "source": [
    "#df.isnull().sum()\n",
    "df.info()"
   ]
  },
  {
   "cell_type": "code",
   "execution_count": 70,
   "metadata": {},
   "outputs": [
    {
     "data": {
      "text/html": [
       "<div>\n",
       "<style scoped>\n",
       "    .dataframe tbody tr th:only-of-type {\n",
       "        vertical-align: middle;\n",
       "    }\n",
       "\n",
       "    .dataframe tbody tr th {\n",
       "        vertical-align: top;\n",
       "    }\n",
       "\n",
       "    .dataframe thead th {\n",
       "        text-align: right;\n",
       "    }\n",
       "</style>\n",
       "<table border=\"1\" class=\"dataframe\">\n",
       "  <thead>\n",
       "    <tr style=\"text-align: right;\">\n",
       "      <th></th>\n",
       "      <th>Administrador</th>\n",
       "      <th>Usuario</th>\n",
       "      <th>botón correcto</th>\n",
       "      <th>tiempo de interacción</th>\n",
       "      <th>mini juego</th>\n",
       "      <th>número de interacción</th>\n",
       "      <th>color presionado</th>\n",
       "      <th>dificultad</th>\n",
       "      <th>fecha</th>\n",
       "      <th>Juego</th>\n",
       "      <th>auto push</th>\n",
       "      <th>tiempo de lección</th>\n",
       "      <th>tiempo de sesión</th>\n",
       "    </tr>\n",
       "  </thead>\n",
       "  <tbody>\n",
       "    <tr>\n",
       "      <th>0</th>\n",
       "      <td>nicolas</td>\n",
       "      <td>nicolas</td>\n",
       "      <td>1</td>\n",
       "      <td>5.399169</td>\n",
       "      <td>Despegue</td>\n",
       "      <td>1.0</td>\n",
       "      <td>blue</td>\n",
       "      <td>Episodio 1</td>\n",
       "      <td>2024-01-25 09:26:42</td>\n",
       "      <td>Astro</td>\n",
       "      <td>0</td>\n",
       "      <td>0.000000</td>\n",
       "      <td>0.000000</td>\n",
       "    </tr>\n",
       "    <tr>\n",
       "      <th>1</th>\n",
       "      <td>nicolas</td>\n",
       "      <td>nicolas</td>\n",
       "      <td>0</td>\n",
       "      <td>1.283400</td>\n",
       "      <td>Despegue</td>\n",
       "      <td>2.0</td>\n",
       "      <td>violet</td>\n",
       "      <td>Episodio 1</td>\n",
       "      <td>2024-01-25 09:26:46</td>\n",
       "      <td>Astro</td>\n",
       "      <td>0</td>\n",
       "      <td>0.000000</td>\n",
       "      <td>0.000000</td>\n",
       "    </tr>\n",
       "    <tr>\n",
       "      <th>2</th>\n",
       "      <td>nicolas</td>\n",
       "      <td>nicolas</td>\n",
       "      <td>1</td>\n",
       "      <td>2.700226</td>\n",
       "      <td>Despegue</td>\n",
       "      <td>3.0</td>\n",
       "      <td>green</td>\n",
       "      <td>Episodio 1</td>\n",
       "      <td>2024-01-25 09:26:48</td>\n",
       "      <td>Astro</td>\n",
       "      <td>0</td>\n",
       "      <td>0.000000</td>\n",
       "      <td>0.000000</td>\n",
       "    </tr>\n",
       "    <tr>\n",
       "      <th>3</th>\n",
       "      <td>nicolas</td>\n",
       "      <td>nicolas</td>\n",
       "      <td>0</td>\n",
       "      <td>3.050262</td>\n",
       "      <td>Despegue</td>\n",
       "      <td>4.0</td>\n",
       "      <td>green</td>\n",
       "      <td>Episodio 1</td>\n",
       "      <td>2024-01-25 09:26:57</td>\n",
       "      <td>Astro</td>\n",
       "      <td>0</td>\n",
       "      <td>0.000000</td>\n",
       "      <td>0.000000</td>\n",
       "    </tr>\n",
       "    <tr>\n",
       "      <th>4</th>\n",
       "      <td>nicolas</td>\n",
       "      <td>nicolas</td>\n",
       "      <td>0</td>\n",
       "      <td>4.750256</td>\n",
       "      <td>Despegue</td>\n",
       "      <td>5.0</td>\n",
       "      <td>green</td>\n",
       "      <td>Episodio 1</td>\n",
       "      <td>2024-01-25 09:26:58</td>\n",
       "      <td>Astro</td>\n",
       "      <td>0</td>\n",
       "      <td>0.000000</td>\n",
       "      <td>0.000000</td>\n",
       "    </tr>\n",
       "    <tr>\n",
       "      <th>...</th>\n",
       "      <td>...</td>\n",
       "      <td>...</td>\n",
       "      <td>...</td>\n",
       "      <td>...</td>\n",
       "      <td>...</td>\n",
       "      <td>...</td>\n",
       "      <td>...</td>\n",
       "      <td>...</td>\n",
       "      <td>...</td>\n",
       "      <td>...</td>\n",
       "      <td>...</td>\n",
       "      <td>...</td>\n",
       "      <td>...</td>\n",
       "    </tr>\n",
       "    <tr>\n",
       "      <th>5860</th>\n",
       "      <td>ALEIDA</td>\n",
       "      <td>ESMERALDA</td>\n",
       "      <td>2</td>\n",
       "      <td>0.000000</td>\n",
       "      <td>Sin interacción</td>\n",
       "      <td>0.0</td>\n",
       "      <td>sin color</td>\n",
       "      <td>Episodio 1</td>\n",
       "      <td>2024-05-28 16:15:49</td>\n",
       "      <td>Astro</td>\n",
       "      <td>2</td>\n",
       "      <td>0.000000</td>\n",
       "      <td>332.240000</td>\n",
       "    </tr>\n",
       "    <tr>\n",
       "      <th>5861</th>\n",
       "      <td>ALEIDA</td>\n",
       "      <td>JOSE JAVIER</td>\n",
       "      <td>0</td>\n",
       "      <td>2.135419</td>\n",
       "      <td>Asteroides</td>\n",
       "      <td>1.0</td>\n",
       "      <td>green</td>\n",
       "      <td>Episodio 3</td>\n",
       "      <td>2024-04-06 11:09:54</td>\n",
       "      <td>Astro</td>\n",
       "      <td>0</td>\n",
       "      <td>0.000000</td>\n",
       "      <td>0.000000</td>\n",
       "    </tr>\n",
       "    <tr>\n",
       "      <th>5862</th>\n",
       "      <td>ALEIDA</td>\n",
       "      <td>JOSE JAVIER</td>\n",
       "      <td>2</td>\n",
       "      <td>0.000000</td>\n",
       "      <td>Asteroides</td>\n",
       "      <td>0.0</td>\n",
       "      <td>sin color</td>\n",
       "      <td>Episodio 3</td>\n",
       "      <td>2024-04-06 11:09:58</td>\n",
       "      <td>Astro</td>\n",
       "      <td>2</td>\n",
       "      <td>2.271806</td>\n",
       "      <td>0.000000</td>\n",
       "    </tr>\n",
       "    <tr>\n",
       "      <th>5863</th>\n",
       "      <td>ALEIDA</td>\n",
       "      <td>JOSE JAVIER</td>\n",
       "      <td>2</td>\n",
       "      <td>0.000000</td>\n",
       "      <td>Sin interacción</td>\n",
       "      <td>0.0</td>\n",
       "      <td>sin color</td>\n",
       "      <td>Episodio 3</td>\n",
       "      <td>2024-04-06 11:09:58</td>\n",
       "      <td>Astro</td>\n",
       "      <td>2</td>\n",
       "      <td>0.000000</td>\n",
       "      <td>6.478299</td>\n",
       "    </tr>\n",
       "    <tr>\n",
       "      <th>5864</th>\n",
       "      <td>ALEIDA</td>\n",
       "      <td>JOSE JAVIER</td>\n",
       "      <td>2</td>\n",
       "      <td>0.000000</td>\n",
       "      <td>MiniGame_0</td>\n",
       "      <td>0.0</td>\n",
       "      <td>sin color</td>\n",
       "      <td>Episodio 3</td>\n",
       "      <td>2024-04-06 11:09:59</td>\n",
       "      <td>Astro</td>\n",
       "      <td>2</td>\n",
       "      <td>0.000000</td>\n",
       "      <td>0.000000</td>\n",
       "    </tr>\n",
       "  </tbody>\n",
       "</table>\n",
       "<p>5865 rows × 13 columns</p>\n",
       "</div>"
      ],
      "text/plain": [
       "     Administrador       Usuario  botón correcto  tiempo de interacción  \\\n",
       "0          nicolas       nicolas               1               5.399169   \n",
       "1          nicolas       nicolas               0               1.283400   \n",
       "2          nicolas       nicolas               1               2.700226   \n",
       "3          nicolas       nicolas               0               3.050262   \n",
       "4          nicolas       nicolas               0               4.750256   \n",
       "...            ...           ...             ...                    ...   \n",
       "5860        ALEIDA     ESMERALDA               2               0.000000   \n",
       "5861        ALEIDA  JOSE JAVIER                0               2.135419   \n",
       "5862        ALEIDA  JOSE JAVIER                2               0.000000   \n",
       "5863        ALEIDA  JOSE JAVIER                2               0.000000   \n",
       "5864        ALEIDA  JOSE JAVIER                2               0.000000   \n",
       "\n",
       "           mini juego  número de interacción color presionado  dificultad  \\\n",
       "0            Despegue                    1.0             blue  Episodio 1   \n",
       "1            Despegue                    2.0           violet  Episodio 1   \n",
       "2            Despegue                    3.0            green  Episodio 1   \n",
       "3            Despegue                    4.0            green  Episodio 1   \n",
       "4            Despegue                    5.0            green  Episodio 1   \n",
       "...               ...                    ...              ...         ...   \n",
       "5860  Sin interacción                    0.0        sin color  Episodio 1   \n",
       "5861       Asteroides                    1.0            green  Episodio 3   \n",
       "5862       Asteroides                    0.0        sin color  Episodio 3   \n",
       "5863  Sin interacción                    0.0        sin color  Episodio 3   \n",
       "5864       MiniGame_0                    0.0        sin color  Episodio 3   \n",
       "\n",
       "                   fecha  Juego  auto push  tiempo de lección  \\\n",
       "0    2024-01-25 09:26:42  Astro          0           0.000000   \n",
       "1    2024-01-25 09:26:46  Astro          0           0.000000   \n",
       "2    2024-01-25 09:26:48  Astro          0           0.000000   \n",
       "3    2024-01-25 09:26:57  Astro          0           0.000000   \n",
       "4    2024-01-25 09:26:58  Astro          0           0.000000   \n",
       "...                  ...    ...        ...                ...   \n",
       "5860 2024-05-28 16:15:49  Astro          2           0.000000   \n",
       "5861 2024-04-06 11:09:54  Astro          0           0.000000   \n",
       "5862 2024-04-06 11:09:58  Astro          2           2.271806   \n",
       "5863 2024-04-06 11:09:58  Astro          2           0.000000   \n",
       "5864 2024-04-06 11:09:59  Astro          2           0.000000   \n",
       "\n",
       "      tiempo de sesión  \n",
       "0             0.000000  \n",
       "1             0.000000  \n",
       "2             0.000000  \n",
       "3             0.000000  \n",
       "4             0.000000  \n",
       "...                ...  \n",
       "5860        332.240000  \n",
       "5861          0.000000  \n",
       "5862          0.000000  \n",
       "5863          6.478299  \n",
       "5864          0.000000  \n",
       "\n",
       "[5865 rows x 13 columns]"
      ]
     },
     "execution_count": 70,
     "metadata": {},
     "output_type": "execute_result"
    }
   ],
   "source": [
    "#DF SIN NULO SIMPLEMENTE\n",
    "\n",
    "df"
   ]
  },
  {
   "cell_type": "code",
   "execution_count": 71,
   "metadata": {},
   "outputs": [],
   "source": [
    "cuanti = df.iloc[ : ,[2, 3, 5, 10, 11, 12]]\n",
    "cuali = df.iloc[ : ,[0, 1, 4, 6, 7, 8, 9]]"
   ]
  },
  {
   "cell_type": "code",
   "execution_count": 72,
   "metadata": {},
   "outputs": [
    {
     "data": {
      "text/plain": [
       "<Figure size 1000x500 with 0 Axes>"
      ]
     },
     "metadata": {},
     "output_type": "display_data"
    },
    {
     "data": {
      "image/png": "[encoded data removed]",
      "text/plain": [
       "<Figure size 640x480 with 1 Axes>"
      ]
     },
     "metadata": {},
     "output_type": "display_data"
    }
   ],
   "source": [
    "plt.figure(figsize=(10, 5))\n",
    "df.plot(kind='box', vert =False)\n",
    "plt.title(\"Después de eliminar outliers\")\n",
    "plt.show()"
   ]
  },
  {
   "cell_type": "code",
   "execution_count": 73,
   "metadata": {},
   "outputs": [
    {
     "name": "stdout",
     "output_type": "stream",
     "text": [
      "Limite superior permitido botón correcto            2.500000\n",
      "tiempo de interacción    21.792686\n",
      "número de interacción    19.500000\n",
      "auto push                 0.000000\n",
      "tiempo de lección         0.000000\n",
      "tiempo de sesión          0.000000\n",
      "dtype: float64\n",
      "Limite inferior permitido botón correcto          -0.500000\n",
      "tiempo de interacción   -3.058288\n",
      "número de interacción   -1.500000\n",
      "auto push                0.000000\n",
      "tiempo de lección        0.000000\n",
      "tiempo de sesión         0.000000\n",
      "dtype: float64\n"
     ]
    }
   ],
   "source": [
    "y = cuanti\n",
    "percentiles25 = y.quantile(0.25) #Q1\n",
    "percentile75 = y.quantile(0.75) #Q3\n",
    "iqr = percentile75 - percentiles25\n",
    "\n",
    "Limite_superior_iqr = percentile75 + 1.5*iqr\n",
    "Limite_inferior_iqr = percentile75 - 1.5*iqr\n",
    "\n",
    "print(\"Limite superior permitido\",Limite_superior_iqr)\n",
    "print(\"Limite inferior permitido\",Limite_inferior_iqr)"
   ]
  },
  {
   "cell_type": "code",
   "execution_count": 74,
   "metadata": {},
   "outputs": [
    {
     "data": {
      "text/html": [
       "<div>\n",
       "<style scoped>\n",
       "    .dataframe tbody tr th:only-of-type {\n",
       "        vertical-align: middle;\n",
       "    }\n",
       "\n",
       "    .dataframe tbody tr th {\n",
       "        vertical-align: top;\n",
       "    }\n",
       "\n",
       "    .dataframe thead th {\n",
       "        text-align: right;\n",
       "    }\n",
       "</style>\n",
       "<table border=\"1\" class=\"dataframe\">\n",
       "  <thead>\n",
       "    <tr style=\"text-align: right;\">\n",
       "      <th></th>\n",
       "      <th>botón correcto</th>\n",
       "      <th>tiempo de interacción</th>\n",
       "      <th>número de interacción</th>\n",
       "      <th>auto push</th>\n",
       "      <th>tiempo de lección</th>\n",
       "      <th>tiempo de sesión</th>\n",
       "    </tr>\n",
       "  </thead>\n",
       "  <tbody>\n",
       "    <tr>\n",
       "      <th>0</th>\n",
       "      <td>1</td>\n",
       "      <td>5.399169</td>\n",
       "      <td>1.0</td>\n",
       "      <td>0.0</td>\n",
       "      <td>0.0</td>\n",
       "      <td>0.0</td>\n",
       "    </tr>\n",
       "    <tr>\n",
       "      <th>1</th>\n",
       "      <td>0</td>\n",
       "      <td>1.283400</td>\n",
       "      <td>2.0</td>\n",
       "      <td>0.0</td>\n",
       "      <td>0.0</td>\n",
       "      <td>0.0</td>\n",
       "    </tr>\n",
       "    <tr>\n",
       "      <th>2</th>\n",
       "      <td>1</td>\n",
       "      <td>2.700226</td>\n",
       "      <td>3.0</td>\n",
       "      <td>0.0</td>\n",
       "      <td>0.0</td>\n",
       "      <td>0.0</td>\n",
       "    </tr>\n",
       "    <tr>\n",
       "      <th>3</th>\n",
       "      <td>0</td>\n",
       "      <td>3.050262</td>\n",
       "      <td>4.0</td>\n",
       "      <td>0.0</td>\n",
       "      <td>0.0</td>\n",
       "      <td>0.0</td>\n",
       "    </tr>\n",
       "    <tr>\n",
       "      <th>4</th>\n",
       "      <td>0</td>\n",
       "      <td>4.750256</td>\n",
       "      <td>5.0</td>\n",
       "      <td>0.0</td>\n",
       "      <td>0.0</td>\n",
       "      <td>0.0</td>\n",
       "    </tr>\n",
       "    <tr>\n",
       "      <th>...</th>\n",
       "      <td>...</td>\n",
       "      <td>...</td>\n",
       "      <td>...</td>\n",
       "      <td>...</td>\n",
       "      <td>...</td>\n",
       "      <td>...</td>\n",
       "    </tr>\n",
       "    <tr>\n",
       "      <th>5860</th>\n",
       "      <td>2</td>\n",
       "      <td>0.000000</td>\n",
       "      <td>0.0</td>\n",
       "      <td>NaN</td>\n",
       "      <td>0.0</td>\n",
       "      <td>NaN</td>\n",
       "    </tr>\n",
       "    <tr>\n",
       "      <th>5861</th>\n",
       "      <td>0</td>\n",
       "      <td>2.135419</td>\n",
       "      <td>1.0</td>\n",
       "      <td>0.0</td>\n",
       "      <td>0.0</td>\n",
       "      <td>0.0</td>\n",
       "    </tr>\n",
       "    <tr>\n",
       "      <th>5862</th>\n",
       "      <td>2</td>\n",
       "      <td>0.000000</td>\n",
       "      <td>0.0</td>\n",
       "      <td>NaN</td>\n",
       "      <td>NaN</td>\n",
       "      <td>0.0</td>\n",
       "    </tr>\n",
       "    <tr>\n",
       "      <th>5863</th>\n",
       "      <td>2</td>\n",
       "      <td>0.000000</td>\n",
       "      <td>0.0</td>\n",
       "      <td>NaN</td>\n",
       "      <td>0.0</td>\n",
       "      <td>NaN</td>\n",
       "    </tr>\n",
       "    <tr>\n",
       "      <th>5864</th>\n",
       "      <td>2</td>\n",
       "      <td>0.000000</td>\n",
       "      <td>0.0</td>\n",
       "      <td>NaN</td>\n",
       "      <td>0.0</td>\n",
       "      <td>0.0</td>\n",
       "    </tr>\n",
       "  </tbody>\n",
       "</table>\n",
       "<p>5865 rows × 6 columns</p>\n",
       "</div>"
      ],
      "text/plain": [
       "      botón correcto  tiempo de interacción  número de interacción  auto push  \\\n",
       "0                  1               5.399169                    1.0        0.0   \n",
       "1                  0               1.283400                    2.0        0.0   \n",
       "2                  1               2.700226                    3.0        0.0   \n",
       "3                  0               3.050262                    4.0        0.0   \n",
       "4                  0               4.750256                    5.0        0.0   \n",
       "...              ...                    ...                    ...        ...   \n",
       "5860               2               0.000000                    0.0        NaN   \n",
       "5861               0               2.135419                    1.0        0.0   \n",
       "5862               2               0.000000                    0.0        NaN   \n",
       "5863               2               0.000000                    0.0        NaN   \n",
       "5864               2               0.000000                    0.0        NaN   \n",
       "\n",
       "      tiempo de lección  tiempo de sesión  \n",
       "0                   0.0               0.0  \n",
       "1                   0.0               0.0  \n",
       "2                   0.0               0.0  \n",
       "3                   0.0               0.0  \n",
       "4                   0.0               0.0  \n",
       "...                 ...               ...  \n",
       "5860                0.0               NaN  \n",
       "5861                0.0               0.0  \n",
       "5862                NaN               0.0  \n",
       "5863                0.0               NaN  \n",
       "5864                0.0               0.0  \n",
       "\n",
       "[5865 rows x 6 columns]"
      ]
     },
     "execution_count": 74,
     "metadata": {},
     "output_type": "execute_result"
    }
   ],
   "source": [
    "df1 = cuanti[(y<=Limite_superior_iqr) & (y>=Limite_inferior_iqr)]\n",
    "df1"
   ]
  },
  {
   "cell_type": "code",
   "execution_count": 75,
   "metadata": {},
   "outputs": [],
   "source": [
    "df2 = df1.copy()\n",
    "df2 = df2.fillna(round(df2.mean(),1))\n",
    "dato_limpios = pd.concat([cuali, df2], axis=1)\n",
    "dato_limpios.to_csv(\"Socio_NoNulos_NoOutlayers.csv\")"
   ]
  },
  {
   "cell_type": "code",
   "execution_count": 76,
   "metadata": {},
   "outputs": [
    {
     "name": "stdout",
     "output_type": "stream",
     "text": [
      "<class 'pandas.core.frame.DataFrame'>\n",
      "RangeIndex: 5865 entries, 0 to 5864\n",
      "Data columns (total 13 columns):\n",
      " #   Column                 Non-Null Count  Dtype         \n",
      "---  ------                 --------------  -----         \n",
      " 0   Administrador          5865 non-null   object        \n",
      " 1   Usuario                5865 non-null   object        \n",
      " 2   mini juego             5865 non-null   object        \n",
      " 3   color presionado       5865 non-null   object        \n",
      " 4   dificultad             5865 non-null   object        \n",
      " 5   fecha                  5865 non-null   datetime64[ns]\n",
      " 6   Juego                  5865 non-null   object        \n",
      " 7   botón correcto         5865 non-null   int64         \n",
      " 8   tiempo de interacción  5865 non-null   float64       \n",
      " 9   número de interacción  5865 non-null   float64       \n",
      " 10  auto push              5865 non-null   float64       \n",
      " 11  tiempo de lección      5865 non-null   float64       \n",
      " 12  tiempo de sesión       5865 non-null   float64       \n",
      "dtypes: datetime64[ns](1), float64(5), int64(1), object(6)\n",
      "memory usage: 595.8+ KB\n"
     ]
    }
   ],
   "source": [
    "dato_limpios.info()"
   ]
  },
  {
   "cell_type": "markdown",
   "metadata": {},
   "source": [
    "**Extraccion Caracteristicas Variables Categóricas**"
   ]
  },
  {
   "cell_type": "code",
   "execution_count": 77,
   "metadata": {},
   "outputs": [
    {
     "name": "stdout",
     "output_type": "stream",
     "text": [
      "     Administrador  frequency  percentage  cumulative_perc\n",
      "0           ALEIDA       3260    0.555840         0.555840\n",
      "1          nicolas        440    0.075021         0.630861\n",
      "2         LEONARDO        371    0.063257         0.694118\n",
      "3          DENISSE        302    0.051492         0.745610\n",
      "4     SERGIO ANGEL        243    0.041432         0.787042\n",
      "5   CARLOS ENRIQUE        228    0.038875         0.825916\n",
      "6       YAEL DAVID        224    0.038193         0.864109\n",
      "7           AUSTIN        199    0.033930         0.898039\n",
      "8         VALENTIN        163    0.027792         0.925831\n",
      "9            erick        158    0.026939         0.952771\n",
      "10   IKER BENJAMIN        128    0.021824         0.974595\n",
      "11          KYTZIA         98    0.016709         0.991304\n",
      "12        BENJAMIN         51    0.008696         1.000000\n",
      "\n",
      "----------------------------------------------------------------\n",
      "\n",
      "               Usuario  frequency  percentage  cumulative_perc\n",
      "0            LEONARDO         546    0.093095         0.093095\n",
      "1               ALEIDA        487    0.083035         0.176130\n",
      "2              nicolas        440    0.075021         0.251151\n",
      "3         JOSE JAVIER         394    0.067178         0.318329\n",
      "4             LEONARDO        371    0.063257         0.381586\n",
      "5      JESUS ALEJANDRO        356    0.060699         0.442285\n",
      "6          ramiro isai        332    0.056607         0.498892\n",
      "7              ADRIAN         280    0.047741         0.546633\n",
      "8         SERGIO ANGEL        243    0.041432         0.588065\n",
      "9              DENISSE        228    0.038875         0.626939\n",
      "10      CARLOS ENRIQUE        228    0.038875         0.665814\n",
      "11          YAEL DAVID        224    0.038193         0.704007\n",
      "12            VALENTIN        163    0.027792         0.731799\n",
      "13              erick         158    0.026939         0.758738\n",
      "14       IKER BENJAMIN        152    0.025916         0.784655\n",
      "15           NICOLAS |        128    0.021824         0.806479\n",
      "16       ERICK OSVALDO        126    0.021483         0.827962\n",
      "17          CONCEPCION        103    0.017562         0.845524\n",
      "18              KYTZIA         98    0.016709         0.862234\n",
      "19              AUSTIN         96    0.016368         0.878602\n",
      "20  JOSE IGNACIO TADEO         94    0.016027         0.894629\n",
      "21            JOSE IAN         86    0.014663         0.909292\n",
      "22             ASHLEY          75    0.012788         0.922080\n",
      "23              JOSHUA         74    0.012617         0.934697\n",
      "24      YEREMI YAZMIN          71    0.012106         0.946803\n",
      "25     MA DEL ROSARIO          64    0.010912         0.957715\n",
      "26            BENJAMIN         51    0.008696         0.966411\n",
      "27              INGRID         49    0.008355         0.974766\n",
      "28               RENE          44    0.007502         0.982268\n",
      "29         CARLOS ABEL         39    0.006650         0.988917\n",
      "30              ARLETT         29    0.004945         0.993862\n",
      "31           ESMERALDA         24    0.004092         0.997954\n",
      "32             IRVING          10    0.001705         0.999659\n",
      "33       jesus eduardo          2    0.000341         1.000000\n",
      "\n",
      "----------------------------------------------------------------\n",
      "\n",
      "            mini juego  frequency  percentage  cumulative_perc\n",
      "0           Asteroides       1054    0.179710         0.179710\n",
      "1          Restaurante        869    0.148167         0.327877\n",
      "2            Estrellas        813    0.138619         0.466496\n",
      "3              Gusanos        748    0.127536         0.594032\n",
      "4   sonidos y animales        743    0.126684         0.720716\n",
      "5   animales y colores        545    0.092924         0.813640\n",
      "6    figuras y colores        400    0.068201         0.881841\n",
      "7    partes del cuerpo        320    0.054561         0.936402\n",
      "8             Despegue        196    0.033419         0.969821\n",
      "9      Sin interacción        156    0.026598         0.996419\n",
      "10          MiniGame_0          8    0.001364         0.997783\n",
      "11          MiniGame_3          5    0.000853         0.998636\n",
      "12          MiniGame_2          5    0.000853         0.999488\n",
      "13          MiniGame_1          3    0.000512         1.000000\n",
      "\n",
      "----------------------------------------------------------------\n",
      "\n",
      "  color presionado  frequency  percentage  cumulative_perc\n",
      "0           violet       1361    0.232055         0.232055\n",
      "1            green       1298    0.221313         0.453367\n",
      "2           yellow       1233    0.210230         0.663598\n",
      "3             blue       1182    0.201535         0.865132\n",
      "4        sin color        762    0.129923         0.995055\n",
      "5              red         29    0.004945         1.000000\n",
      "\n",
      "----------------------------------------------------------------\n",
      "\n",
      "   dificultad  frequency  percentage  cumulative_perc\n",
      "0  Episodio 1       2357    0.401876         0.401876\n",
      "1  Episodio 2       1493    0.254561         0.656436\n",
      "2  Episodio 3       1292    0.220290         0.876726\n",
      "3  Episodio 4        723    0.123274         1.000000\n",
      "\n",
      "----------------------------------------------------------------\n",
      "\n",
      "     Juego  frequency  percentage  cumulative_perc\n",
      "0    Astro       3799    0.647741         0.647741\n",
      "1  Cadetes       2066    0.352259         1.000000\n",
      "\n",
      "----------------------------------------------------------------\n",
      "\n"
     ]
    }
   ],
   "source": [
    "#Obtengo un análisis univariado de las variables categóricas\n",
    "freq_tbl (dato_limpios)"
   ]
  },
  {
   "cell_type": "markdown",
   "metadata": {},
   "source": [
    "**Adminsitrador**"
   ]
  },
  {
   "cell_type": "code",
   "execution_count": 78,
   "metadata": {},
   "outputs": [
    {
     "data": {
      "text/html": [
       "<div>\n",
       "<style scoped>\n",
       "    .dataframe tbody tr th:only-of-type {\n",
       "        vertical-align: middle;\n",
       "    }\n",
       "\n",
       "    .dataframe tbody tr th {\n",
       "        vertical-align: top;\n",
       "    }\n",
       "\n",
       "    .dataframe thead th {\n",
       "        text-align: right;\n",
       "    }\n",
       "</style>\n",
       "<table border=\"1\" class=\"dataframe\">\n",
       "  <thead>\n",
       "    <tr style=\"text-align: right;\">\n",
       "      <th></th>\n",
       "      <th>Administrador</th>\n",
       "      <th>frequency</th>\n",
       "    </tr>\n",
       "  </thead>\n",
       "  <tbody>\n",
       "    <tr>\n",
       "      <th>0</th>\n",
       "      <td>ALEIDA</td>\n",
       "      <td>3260</td>\n",
       "    </tr>\n",
       "    <tr>\n",
       "      <th>1</th>\n",
       "      <td>nicolas</td>\n",
       "      <td>440</td>\n",
       "    </tr>\n",
       "    <tr>\n",
       "      <th>2</th>\n",
       "      <td>LEONARDO</td>\n",
       "      <td>371</td>\n",
       "    </tr>\n",
       "    <tr>\n",
       "      <th>3</th>\n",
       "      <td>DENISSE</td>\n",
       "      <td>302</td>\n",
       "    </tr>\n",
       "    <tr>\n",
       "      <th>4</th>\n",
       "      <td>SERGIO ANGEL</td>\n",
       "      <td>243</td>\n",
       "    </tr>\n",
       "    <tr>\n",
       "      <th>5</th>\n",
       "      <td>CARLOS ENRIQUE</td>\n",
       "      <td>228</td>\n",
       "    </tr>\n",
       "    <tr>\n",
       "      <th>6</th>\n",
       "      <td>YAEL DAVID</td>\n",
       "      <td>224</td>\n",
       "    </tr>\n",
       "    <tr>\n",
       "      <th>7</th>\n",
       "      <td>AUSTIN</td>\n",
       "      <td>199</td>\n",
       "    </tr>\n",
       "    <tr>\n",
       "      <th>8</th>\n",
       "      <td>VALENTIN</td>\n",
       "      <td>163</td>\n",
       "    </tr>\n",
       "    <tr>\n",
       "      <th>9</th>\n",
       "      <td>erick</td>\n",
       "      <td>158</td>\n",
       "    </tr>\n",
       "    <tr>\n",
       "      <th>10</th>\n",
       "      <td>IKER BENJAMIN</td>\n",
       "      <td>128</td>\n",
       "    </tr>\n",
       "    <tr>\n",
       "      <th>11</th>\n",
       "      <td>KYTZIA</td>\n",
       "      <td>98</td>\n",
       "    </tr>\n",
       "    <tr>\n",
       "      <th>12</th>\n",
       "      <td>BENJAMIN</td>\n",
       "      <td>51</td>\n",
       "    </tr>\n",
       "  </tbody>\n",
       "</table>\n",
       "</div>"
      ],
      "text/plain": [
       "     Administrador  frequency\n",
       "0           ALEIDA       3260\n",
       "1          nicolas        440\n",
       "2         LEONARDO        371\n",
       "3          DENISSE        302\n",
       "4     SERGIO ANGEL        243\n",
       "5   CARLOS ENRIQUE        228\n",
       "6       YAEL DAVID        224\n",
       "7           AUSTIN        199\n",
       "8         VALENTIN        163\n",
       "9            erick        158\n",
       "10   IKER BENJAMIN        128\n",
       "11          KYTZIA         98\n",
       "12        BENJAMIN         51"
      ]
     },
     "execution_count": 78,
     "metadata": {},
     "output_type": "execute_result"
    }
   ],
   "source": [
    "#Obtengo un análisis univariado de una variable categórica en específico\n",
    "tableA = freq_tbl (dato_limpios['Administrador'])\n",
    "#Elimino las columnas percentage y cumulative perc para trabajar con las frecuencias\n",
    "tableA = tableA.drop(['percentage','cumulative_perc'],axis=1)\n",
    "tableA"
   ]
  },
  {
   "cell_type": "code",
   "execution_count": 79,
   "metadata": {},
   "outputs": [
    {
     "data": {
      "text/html": [
       "<div>\n",
       "<style scoped>\n",
       "    .dataframe tbody tr th:only-of-type {\n",
       "        vertical-align: middle;\n",
       "    }\n",
       "\n",
       "    .dataframe tbody tr th {\n",
       "        vertical-align: top;\n",
       "    }\n",
       "\n",
       "    .dataframe thead th {\n",
       "        text-align: right;\n",
       "    }\n",
       "</style>\n",
       "<table border=\"1\" class=\"dataframe\">\n",
       "  <thead>\n",
       "    <tr style=\"text-align: right;\">\n",
       "      <th></th>\n",
       "      <th>frequency</th>\n",
       "    </tr>\n",
       "    <tr>\n",
       "      <th>Administrador</th>\n",
       "      <th></th>\n",
       "    </tr>\n",
       "  </thead>\n",
       "  <tbody>\n",
       "    <tr>\n",
       "      <th>ALEIDA</th>\n",
       "      <td>3260</td>\n",
       "    </tr>\n",
       "    <tr>\n",
       "      <th>nicolas</th>\n",
       "      <td>440</td>\n",
       "    </tr>\n",
       "    <tr>\n",
       "      <th>LEONARDO</th>\n",
       "      <td>371</td>\n",
       "    </tr>\n",
       "    <tr>\n",
       "      <th>DENISSE</th>\n",
       "      <td>302</td>\n",
       "    </tr>\n",
       "    <tr>\n",
       "      <th>SERGIO ANGEL</th>\n",
       "      <td>243</td>\n",
       "    </tr>\n",
       "    <tr>\n",
       "      <th>CARLOS ENRIQUE</th>\n",
       "      <td>228</td>\n",
       "    </tr>\n",
       "    <tr>\n",
       "      <th>YAEL DAVID</th>\n",
       "      <td>224</td>\n",
       "    </tr>\n",
       "    <tr>\n",
       "      <th>AUSTIN</th>\n",
       "      <td>199</td>\n",
       "    </tr>\n",
       "    <tr>\n",
       "      <th>VALENTIN</th>\n",
       "      <td>163</td>\n",
       "    </tr>\n",
       "    <tr>\n",
       "      <th>erick</th>\n",
       "      <td>158</td>\n",
       "    </tr>\n",
       "    <tr>\n",
       "      <th>IKER BENJAMIN</th>\n",
       "      <td>128</td>\n",
       "    </tr>\n",
       "    <tr>\n",
       "      <th>KYTZIA</th>\n",
       "      <td>98</td>\n",
       "    </tr>\n",
       "    <tr>\n",
       "      <th>BENJAMIN</th>\n",
       "      <td>51</td>\n",
       "    </tr>\n",
       "  </tbody>\n",
       "</table>\n",
       "</div>"
      ],
      "text/plain": [
       "                frequency\n",
       "Administrador            \n",
       "ALEIDA               3260\n",
       "nicolas               440\n",
       "LEONARDO              371\n",
       "DENISSE               302\n",
       "SERGIO ANGEL          243\n",
       "CARLOS ENRIQUE        228\n",
       "YAEL DAVID            224\n",
       "AUSTIN                199\n",
       "VALENTIN              163\n",
       "erick                 158\n",
       "IKER BENJAMIN         128\n",
       "KYTZIA                 98\n",
       "BENJAMIN               51"
      ]
     },
     "execution_count": 79,
     "metadata": {},
     "output_type": "execute_result"
    }
   ],
   "source": [
    "#Filtro de los valores más relevantes de las variables (mayores a 8)\n",
    "filtroA = tableA [tableA['frequency']>8]\n",
    "#Ajusto el índice de mi dataframe\n",
    "filtroA = filtroA.set_index('Administrador')\n",
    "filtroA"
   ]
  },
  {
   "cell_type": "code",
   "execution_count": 80,
   "metadata": {},
   "outputs": [
    {
     "data": {
      "text/plain": [
       "Text(0, 0.5, 'Frecuencia')"
      ]
     },
     "execution_count": 80,
     "metadata": {},
     "output_type": "execute_result"
    },
    {
     "data": {
      "image/png": "[encoded data removed]",
      "text/plain": [
       "<Figure size 1000x400 with 1 Axes>"
      ]
     },
     "metadata": {},
     "output_type": "display_data"
    }
   ],
   "source": [
    "filtroA.plot(kind = 'bar', width = 0.8, figsize=(10,4), color=\"pink\")\n",
    "plt.title('Herramientas de relación con los pacientes')\n",
    "plt.xlabel('Nombre de administrador')\n",
    "plt.ylabel('Frecuencia')"
   ]
  },
  {
   "cell_type": "code",
   "execution_count": 81,
   "metadata": {},
   "outputs": [
    {
     "data": {
      "text/plain": [
       "<Axes: xlabel='Administrador'>"
      ]
     },
     "execution_count": 81,
     "metadata": {},
     "output_type": "execute_result"
    },
    {
     "data": {
      "image/png": "[encoded data removed]",
      "text/plain": [
       "<Figure size 1000x400 with 1 Axes>"
      ]
     },
     "metadata": {},
     "output_type": "display_data"
    }
   ],
   "source": [
    "filtroA.plot(kind='area', figsize =(10,4), alpha = 0.5)"
   ]
  },
  {
   "cell_type": "code",
   "execution_count": 82,
   "metadata": {},
   "outputs": [
    {
     "data": {
      "text/plain": [
       "<Axes: ylabel='frequency'>"
      ]
     },
     "execution_count": 82,
     "metadata": {},
     "output_type": "execute_result"
    },
    {
     "data": {
      "image/png": "[encoded data removed]",
      "text/plain": [
       "<Figure size 1500x1000 with 1 Axes>"
      ]
     },
     "metadata": {},
     "output_type": "display_data"
    }
   ],
   "source": [
    "filtroA['frequency'].plot(kind='pie', figsize =(15,10), shadow = True, autopct=\"%0.1f %%\")"
   ]
  },
  {
   "cell_type": "markdown",
   "metadata": {},
   "source": [
    "**Paciente**"
   ]
  },
  {
   "cell_type": "code",
   "execution_count": 83,
   "metadata": {},
   "outputs": [
    {
     "data": {
      "text/html": [
       "<div>\n",
       "<style scoped>\n",
       "    .dataframe tbody tr th:only-of-type {\n",
       "        vertical-align: middle;\n",
       "    }\n",
       "\n",
       "    .dataframe tbody tr th {\n",
       "        vertical-align: top;\n",
       "    }\n",
       "\n",
       "    .dataframe thead th {\n",
       "        text-align: right;\n",
       "    }\n",
       "</style>\n",
       "<table border=\"1\" class=\"dataframe\">\n",
       "  <thead>\n",
       "    <tr style=\"text-align: right;\">\n",
       "      <th></th>\n",
       "      <th>Usuario</th>\n",
       "      <th>frequency</th>\n",
       "    </tr>\n",
       "  </thead>\n",
       "  <tbody>\n",
       "    <tr>\n",
       "      <th>0</th>\n",
       "      <td>LEONARDO</td>\n",
       "      <td>546</td>\n",
       "    </tr>\n",
       "    <tr>\n",
       "      <th>1</th>\n",
       "      <td>ALEIDA</td>\n",
       "      <td>487</td>\n",
       "    </tr>\n",
       "    <tr>\n",
       "      <th>2</th>\n",
       "      <td>nicolas</td>\n",
       "      <td>440</td>\n",
       "    </tr>\n",
       "    <tr>\n",
       "      <th>3</th>\n",
       "      <td>JOSE JAVIER</td>\n",
       "      <td>394</td>\n",
       "    </tr>\n",
       "    <tr>\n",
       "      <th>4</th>\n",
       "      <td>LEONARDO</td>\n",
       "      <td>371</td>\n",
       "    </tr>\n",
       "    <tr>\n",
       "      <th>5</th>\n",
       "      <td>JESUS ALEJANDRO</td>\n",
       "      <td>356</td>\n",
       "    </tr>\n",
       "    <tr>\n",
       "      <th>6</th>\n",
       "      <td>ramiro isai</td>\n",
       "      <td>332</td>\n",
       "    </tr>\n",
       "    <tr>\n",
       "      <th>7</th>\n",
       "      <td>ADRIAN</td>\n",
       "      <td>280</td>\n",
       "    </tr>\n",
       "    <tr>\n",
       "      <th>8</th>\n",
       "      <td>SERGIO ANGEL</td>\n",
       "      <td>243</td>\n",
       "    </tr>\n",
       "    <tr>\n",
       "      <th>9</th>\n",
       "      <td>DENISSE</td>\n",
       "      <td>228</td>\n",
       "    </tr>\n",
       "    <tr>\n",
       "      <th>10</th>\n",
       "      <td>CARLOS ENRIQUE</td>\n",
       "      <td>228</td>\n",
       "    </tr>\n",
       "    <tr>\n",
       "      <th>11</th>\n",
       "      <td>YAEL DAVID</td>\n",
       "      <td>224</td>\n",
       "    </tr>\n",
       "    <tr>\n",
       "      <th>12</th>\n",
       "      <td>VALENTIN</td>\n",
       "      <td>163</td>\n",
       "    </tr>\n",
       "    <tr>\n",
       "      <th>13</th>\n",
       "      <td>erick</td>\n",
       "      <td>158</td>\n",
       "    </tr>\n",
       "    <tr>\n",
       "      <th>14</th>\n",
       "      <td>IKER BENJAMIN</td>\n",
       "      <td>152</td>\n",
       "    </tr>\n",
       "    <tr>\n",
       "      <th>15</th>\n",
       "      <td>NICOLAS |</td>\n",
       "      <td>128</td>\n",
       "    </tr>\n",
       "    <tr>\n",
       "      <th>16</th>\n",
       "      <td>ERICK OSVALDO</td>\n",
       "      <td>126</td>\n",
       "    </tr>\n",
       "    <tr>\n",
       "      <th>17</th>\n",
       "      <td>CONCEPCION</td>\n",
       "      <td>103</td>\n",
       "    </tr>\n",
       "    <tr>\n",
       "      <th>18</th>\n",
       "      <td>KYTZIA</td>\n",
       "      <td>98</td>\n",
       "    </tr>\n",
       "    <tr>\n",
       "      <th>19</th>\n",
       "      <td>AUSTIN</td>\n",
       "      <td>96</td>\n",
       "    </tr>\n",
       "    <tr>\n",
       "      <th>20</th>\n",
       "      <td>JOSE IGNACIO TADEO</td>\n",
       "      <td>94</td>\n",
       "    </tr>\n",
       "    <tr>\n",
       "      <th>21</th>\n",
       "      <td>JOSE IAN</td>\n",
       "      <td>86</td>\n",
       "    </tr>\n",
       "    <tr>\n",
       "      <th>22</th>\n",
       "      <td>ASHLEY</td>\n",
       "      <td>75</td>\n",
       "    </tr>\n",
       "    <tr>\n",
       "      <th>23</th>\n",
       "      <td>JOSHUA</td>\n",
       "      <td>74</td>\n",
       "    </tr>\n",
       "    <tr>\n",
       "      <th>24</th>\n",
       "      <td>YEREMI YAZMIN</td>\n",
       "      <td>71</td>\n",
       "    </tr>\n",
       "    <tr>\n",
       "      <th>25</th>\n",
       "      <td>MA DEL ROSARIO</td>\n",
       "      <td>64</td>\n",
       "    </tr>\n",
       "    <tr>\n",
       "      <th>26</th>\n",
       "      <td>BENJAMIN</td>\n",
       "      <td>51</td>\n",
       "    </tr>\n",
       "    <tr>\n",
       "      <th>27</th>\n",
       "      <td>INGRID</td>\n",
       "      <td>49</td>\n",
       "    </tr>\n",
       "    <tr>\n",
       "      <th>28</th>\n",
       "      <td>RENE</td>\n",
       "      <td>44</td>\n",
       "    </tr>\n",
       "    <tr>\n",
       "      <th>29</th>\n",
       "      <td>CARLOS ABEL</td>\n",
       "      <td>39</td>\n",
       "    </tr>\n",
       "    <tr>\n",
       "      <th>30</th>\n",
       "      <td>ARLETT</td>\n",
       "      <td>29</td>\n",
       "    </tr>\n",
       "    <tr>\n",
       "      <th>31</th>\n",
       "      <td>ESMERALDA</td>\n",
       "      <td>24</td>\n",
       "    </tr>\n",
       "    <tr>\n",
       "      <th>32</th>\n",
       "      <td>IRVING</td>\n",
       "      <td>10</td>\n",
       "    </tr>\n",
       "    <tr>\n",
       "      <th>33</th>\n",
       "      <td>jesus eduardo</td>\n",
       "      <td>2</td>\n",
       "    </tr>\n",
       "  </tbody>\n",
       "</table>\n",
       "</div>"
      ],
      "text/plain": [
       "               Usuario  frequency\n",
       "0            LEONARDO         546\n",
       "1               ALEIDA        487\n",
       "2              nicolas        440\n",
       "3         JOSE JAVIER         394\n",
       "4             LEONARDO        371\n",
       "5      JESUS ALEJANDRO        356\n",
       "6          ramiro isai        332\n",
       "7              ADRIAN         280\n",
       "8         SERGIO ANGEL        243\n",
       "9              DENISSE        228\n",
       "10      CARLOS ENRIQUE        228\n",
       "11          YAEL DAVID        224\n",
       "12            VALENTIN        163\n",
       "13              erick         158\n",
       "14       IKER BENJAMIN        152\n",
       "15           NICOLAS |        128\n",
       "16       ERICK OSVALDO        126\n",
       "17          CONCEPCION        103\n",
       "18              KYTZIA         98\n",
       "19              AUSTIN         96\n",
       "20  JOSE IGNACIO TADEO         94\n",
       "21            JOSE IAN         86\n",
       "22             ASHLEY          75\n",
       "23              JOSHUA         74\n",
       "24      YEREMI YAZMIN          71\n",
       "25     MA DEL ROSARIO          64\n",
       "26            BENJAMIN         51\n",
       "27              INGRID         49\n",
       "28               RENE          44\n",
       "29         CARLOS ABEL         39\n",
       "30              ARLETT         29\n",
       "31           ESMERALDA         24\n",
       "32             IRVING          10\n",
       "33       jesus eduardo          2"
      ]
     },
     "execution_count": 83,
     "metadata": {},
     "output_type": "execute_result"
    }
   ],
   "source": [
    "#Obtengo un análisis univariado de una variable categórica en específico\n",
    "tablep = freq_tbl (dato_limpios['Usuario'])\n",
    "#Elimino las columnas percentage y cumulative perc para trabajar con las frecuencias\n",
    "tablep = tablep.drop(['percentage','cumulative_perc'],axis=1)\n",
    "tablep"
   ]
  },
  {
   "cell_type": "code",
   "execution_count": 84,
   "metadata": {},
   "outputs": [
    {
     "data": {
      "text/html": [
       "<div>\n",
       "<style scoped>\n",
       "    .dataframe tbody tr th:only-of-type {\n",
       "        vertical-align: middle;\n",
       "    }\n",
       "\n",
       "    .dataframe tbody tr th {\n",
       "        vertical-align: top;\n",
       "    }\n",
       "\n",
       "    .dataframe thead th {\n",
       "        text-align: right;\n",
       "    }\n",
       "</style>\n",
       "<table border=\"1\" class=\"dataframe\">\n",
       "  <thead>\n",
       "    <tr style=\"text-align: right;\">\n",
       "      <th></th>\n",
       "      <th>frequency</th>\n",
       "    </tr>\n",
       "    <tr>\n",
       "      <th>Usuario</th>\n",
       "      <th></th>\n",
       "    </tr>\n",
       "  </thead>\n",
       "  <tbody>\n",
       "    <tr>\n",
       "      <th>LEONARDO</th>\n",
       "      <td>546</td>\n",
       "    </tr>\n",
       "    <tr>\n",
       "      <th>ALEIDA</th>\n",
       "      <td>487</td>\n",
       "    </tr>\n",
       "    <tr>\n",
       "      <th>nicolas</th>\n",
       "      <td>440</td>\n",
       "    </tr>\n",
       "    <tr>\n",
       "      <th>JOSE JAVIER</th>\n",
       "      <td>394</td>\n",
       "    </tr>\n",
       "    <tr>\n",
       "      <th>LEONARDO</th>\n",
       "      <td>371</td>\n",
       "    </tr>\n",
       "    <tr>\n",
       "      <th>JESUS ALEJANDRO</th>\n",
       "      <td>356</td>\n",
       "    </tr>\n",
       "    <tr>\n",
       "      <th>ramiro isai</th>\n",
       "      <td>332</td>\n",
       "    </tr>\n",
       "    <tr>\n",
       "      <th>ADRIAN</th>\n",
       "      <td>280</td>\n",
       "    </tr>\n",
       "    <tr>\n",
       "      <th>SERGIO ANGEL</th>\n",
       "      <td>243</td>\n",
       "    </tr>\n",
       "    <tr>\n",
       "      <th>DENISSE</th>\n",
       "      <td>228</td>\n",
       "    </tr>\n",
       "    <tr>\n",
       "      <th>CARLOS ENRIQUE</th>\n",
       "      <td>228</td>\n",
       "    </tr>\n",
       "    <tr>\n",
       "      <th>YAEL DAVID</th>\n",
       "      <td>224</td>\n",
       "    </tr>\n",
       "  </tbody>\n",
       "</table>\n",
       "</div>"
      ],
      "text/plain": [
       "                 frequency\n",
       "Usuario                   \n",
       "LEONARDO               546\n",
       "ALEIDA                 487\n",
       "nicolas                440\n",
       "JOSE JAVIER            394\n",
       "LEONARDO               371\n",
       "JESUS ALEJANDRO        356\n",
       "ramiro isai            332\n",
       "ADRIAN                 280\n",
       "SERGIO ANGEL           243\n",
       "DENISSE                228\n",
       "CARLOS ENRIQUE         228\n",
       "YAEL DAVID             224"
      ]
     },
     "execution_count": 84,
     "metadata": {},
     "output_type": "execute_result"
    }
   ],
   "source": [
    "tablep = tablep [tablep['frequency']>200]\n",
    "filtrop = tablep.set_index('Usuario')\n",
    "filtrop"
   ]
  },
  {
   "cell_type": "code",
   "execution_count": 85,
   "metadata": {},
   "outputs": [
    {
     "data": {
      "text/plain": [
       "Text(0, 0.5, 'Frecuencia')"
      ]
     },
     "execution_count": 85,
     "metadata": {},
     "output_type": "execute_result"
    },
    {
     "data": {
      "image/png": "[encoded data removed]",
      "text/plain": [
       "<Figure size 1000x400 with 1 Axes>"
      ]
     },
     "metadata": {},
     "output_type": "display_data"
    }
   ],
   "source": [
    "filtrop.plot(kind = 'bar', width = 0.8, figsize=(10,4), color=\"pink\")\n",
    "plt.title('Herramientas de relación con los pacientes')\n",
    "plt.xlabel('Nombre de usuario')\n",
    "plt.ylabel('Frecuencia')"
   ]
  },
  {
   "cell_type": "markdown",
   "metadata": {},
   "source": [
    "**Mini juego**"
   ]
  },
  {
   "cell_type": "code",
   "execution_count": 86,
   "metadata": {},
   "outputs": [
    {
     "data": {
      "text/html": [
       "<div>\n",
       "<style scoped>\n",
       "    .dataframe tbody tr th:only-of-type {\n",
       "        vertical-align: middle;\n",
       "    }\n",
       "\n",
       "    .dataframe tbody tr th {\n",
       "        vertical-align: top;\n",
       "    }\n",
       "\n",
       "    .dataframe thead th {\n",
       "        text-align: right;\n",
       "    }\n",
       "</style>\n",
       "<table border=\"1\" class=\"dataframe\">\n",
       "  <thead>\n",
       "    <tr style=\"text-align: right;\">\n",
       "      <th></th>\n",
       "      <th>mini juego</th>\n",
       "      <th>frequency</th>\n",
       "    </tr>\n",
       "  </thead>\n",
       "  <tbody>\n",
       "    <tr>\n",
       "      <th>0</th>\n",
       "      <td>Asteroides</td>\n",
       "      <td>1054</td>\n",
       "    </tr>\n",
       "    <tr>\n",
       "      <th>1</th>\n",
       "      <td>Restaurante</td>\n",
       "      <td>869</td>\n",
       "    </tr>\n",
       "    <tr>\n",
       "      <th>2</th>\n",
       "      <td>Estrellas</td>\n",
       "      <td>813</td>\n",
       "    </tr>\n",
       "    <tr>\n",
       "      <th>3</th>\n",
       "      <td>Gusanos</td>\n",
       "      <td>748</td>\n",
       "    </tr>\n",
       "    <tr>\n",
       "      <th>4</th>\n",
       "      <td>sonidos y animales</td>\n",
       "      <td>743</td>\n",
       "    </tr>\n",
       "    <tr>\n",
       "      <th>5</th>\n",
       "      <td>animales y colores</td>\n",
       "      <td>545</td>\n",
       "    </tr>\n",
       "    <tr>\n",
       "      <th>6</th>\n",
       "      <td>figuras y colores</td>\n",
       "      <td>400</td>\n",
       "    </tr>\n",
       "    <tr>\n",
       "      <th>7</th>\n",
       "      <td>partes del cuerpo</td>\n",
       "      <td>320</td>\n",
       "    </tr>\n",
       "    <tr>\n",
       "      <th>8</th>\n",
       "      <td>Despegue</td>\n",
       "      <td>196</td>\n",
       "    </tr>\n",
       "    <tr>\n",
       "      <th>9</th>\n",
       "      <td>Sin interacción</td>\n",
       "      <td>156</td>\n",
       "    </tr>\n",
       "    <tr>\n",
       "      <th>10</th>\n",
       "      <td>MiniGame_0</td>\n",
       "      <td>8</td>\n",
       "    </tr>\n",
       "    <tr>\n",
       "      <th>11</th>\n",
       "      <td>MiniGame_3</td>\n",
       "      <td>5</td>\n",
       "    </tr>\n",
       "    <tr>\n",
       "      <th>12</th>\n",
       "      <td>MiniGame_2</td>\n",
       "      <td>5</td>\n",
       "    </tr>\n",
       "    <tr>\n",
       "      <th>13</th>\n",
       "      <td>MiniGame_1</td>\n",
       "      <td>3</td>\n",
       "    </tr>\n",
       "  </tbody>\n",
       "</table>\n",
       "</div>"
      ],
      "text/plain": [
       "            mini juego  frequency\n",
       "0           Asteroides       1054\n",
       "1          Restaurante        869\n",
       "2            Estrellas        813\n",
       "3              Gusanos        748\n",
       "4   sonidos y animales        743\n",
       "5   animales y colores        545\n",
       "6    figuras y colores        400\n",
       "7    partes del cuerpo        320\n",
       "8             Despegue        196\n",
       "9      Sin interacción        156\n",
       "10          MiniGame_0          8\n",
       "11          MiniGame_3          5\n",
       "12          MiniGame_2          5\n",
       "13          MiniGame_1          3"
      ]
     },
     "execution_count": 86,
     "metadata": {},
     "output_type": "execute_result"
    }
   ],
   "source": [
    "#Obtengo un análisis univariado de una variable categórica en específico\n",
    "table1 = freq_tbl (dato_limpios['mini juego'])\n",
    "#Elimino las columnas percentage y cumulative perc para trabajar con las frecuencias\n",
    "table1 = table1.drop(['percentage','cumulative_perc'],axis=1)\n",
    "table1"
   ]
  },
  {
   "cell_type": "code",
   "execution_count": 87,
   "metadata": {},
   "outputs": [
    {
     "data": {
      "text/html": [
       "<div>\n",
       "<style scoped>\n",
       "    .dataframe tbody tr th:only-of-type {\n",
       "        vertical-align: middle;\n",
       "    }\n",
       "\n",
       "    .dataframe tbody tr th {\n",
       "        vertical-align: top;\n",
       "    }\n",
       "\n",
       "    .dataframe thead th {\n",
       "        text-align: right;\n",
       "    }\n",
       "</style>\n",
       "<table border=\"1\" class=\"dataframe\">\n",
       "  <thead>\n",
       "    <tr style=\"text-align: right;\">\n",
       "      <th></th>\n",
       "      <th>frequency</th>\n",
       "    </tr>\n",
       "    <tr>\n",
       "      <th>mini juego</th>\n",
       "      <th></th>\n",
       "    </tr>\n",
       "  </thead>\n",
       "  <tbody>\n",
       "    <tr>\n",
       "      <th>Asteroides</th>\n",
       "      <td>1054</td>\n",
       "    </tr>\n",
       "    <tr>\n",
       "      <th>Restaurante</th>\n",
       "      <td>869</td>\n",
       "    </tr>\n",
       "    <tr>\n",
       "      <th>Estrellas</th>\n",
       "      <td>813</td>\n",
       "    </tr>\n",
       "    <tr>\n",
       "      <th>Gusanos</th>\n",
       "      <td>748</td>\n",
       "    </tr>\n",
       "    <tr>\n",
       "      <th>sonidos y animales</th>\n",
       "      <td>743</td>\n",
       "    </tr>\n",
       "    <tr>\n",
       "      <th>animales y colores</th>\n",
       "      <td>545</td>\n",
       "    </tr>\n",
       "    <tr>\n",
       "      <th>figuras y colores</th>\n",
       "      <td>400</td>\n",
       "    </tr>\n",
       "    <tr>\n",
       "      <th>partes del cuerpo</th>\n",
       "      <td>320</td>\n",
       "    </tr>\n",
       "    <tr>\n",
       "      <th>Despegue</th>\n",
       "      <td>196</td>\n",
       "    </tr>\n",
       "    <tr>\n",
       "      <th>Sin interacción</th>\n",
       "      <td>156</td>\n",
       "    </tr>\n",
       "  </tbody>\n",
       "</table>\n",
       "</div>"
      ],
      "text/plain": [
       "                    frequency\n",
       "mini juego                   \n",
       "Asteroides               1054\n",
       "Restaurante               869\n",
       "Estrellas                 813\n",
       "Gusanos                   748\n",
       "sonidos y animales        743\n",
       "animales y colores        545\n",
       "figuras y colores         400\n",
       "partes del cuerpo         320\n",
       "Despegue                  196\n",
       "Sin interacción           156"
      ]
     },
     "execution_count": 87,
     "metadata": {},
     "output_type": "execute_result"
    }
   ],
   "source": [
    "#Filtro de los valores más relevantes de las variables (mayores a 8)\n",
    "filtro = table1 [table1['frequency']>8]\n",
    "#Ajusto el índice de mi dataframe\n",
    "filtro = filtro.set_index('mini juego')\n",
    "filtro"
   ]
  },
  {
   "cell_type": "code",
   "execution_count": 88,
   "metadata": {},
   "outputs": [
    {
     "data": {
      "text/plain": [
       "<Axes: ylabel='frequency'>"
      ]
     },
     "execution_count": 88,
     "metadata": {},
     "output_type": "execute_result"
    },
    {
     "data": {
      "image/png": "[encoded data removed]",
      "text/plain": [
       "<Figure size 1000x500 with 1 Axes>"
      ]
     },
     "metadata": {},
     "output_type": "display_data"
    }
   ],
   "source": [
    "#Realizmaos gráfico de pastel\n",
    "filtro['frequency'].plot(kind = 'pie',figsize = (10,5),shadow = True, autopct = '%0.1f %%')"
   ]
  },
  {
   "cell_type": "markdown",
   "metadata": {},
   "source": [
    "Podemos observar que la frecuencia de los minijuegos está muy variada, y que hay tres principales, siendo asteroides, restaurante, y estrellas. Esto se puede deber a la gran preferencia que tienen los pacientes de seleccionar ese juego, o que los terapeutas son los que igual eligen para ellos."
   ]
  },
  {
   "cell_type": "markdown",
   "metadata": {},
   "source": [
    "**Color presionado**"
   ]
  },
  {
   "cell_type": "code",
   "execution_count": 89,
   "metadata": {},
   "outputs": [
    {
     "data": {
      "text/html": [
       "<div>\n",
       "<style scoped>\n",
       "    .dataframe tbody tr th:only-of-type {\n",
       "        vertical-align: middle;\n",
       "    }\n",
       "\n",
       "    .dataframe tbody tr th {\n",
       "        vertical-align: top;\n",
       "    }\n",
       "\n",
       "    .dataframe thead th {\n",
       "        text-align: right;\n",
       "    }\n",
       "</style>\n",
       "<table border=\"1\" class=\"dataframe\">\n",
       "  <thead>\n",
       "    <tr style=\"text-align: right;\">\n",
       "      <th></th>\n",
       "      <th>color presionado</th>\n",
       "      <th>frequency</th>\n",
       "    </tr>\n",
       "  </thead>\n",
       "  <tbody>\n",
       "    <tr>\n",
       "      <th>0</th>\n",
       "      <td>violet</td>\n",
       "      <td>1361</td>\n",
       "    </tr>\n",
       "    <tr>\n",
       "      <th>1</th>\n",
       "      <td>green</td>\n",
       "      <td>1298</td>\n",
       "    </tr>\n",
       "    <tr>\n",
       "      <th>2</th>\n",
       "      <td>yellow</td>\n",
       "      <td>1233</td>\n",
       "    </tr>\n",
       "    <tr>\n",
       "      <th>3</th>\n",
       "      <td>blue</td>\n",
       "      <td>1182</td>\n",
       "    </tr>\n",
       "    <tr>\n",
       "      <th>4</th>\n",
       "      <td>sin color</td>\n",
       "      <td>762</td>\n",
       "    </tr>\n",
       "    <tr>\n",
       "      <th>5</th>\n",
       "      <td>red</td>\n",
       "      <td>29</td>\n",
       "    </tr>\n",
       "  </tbody>\n",
       "</table>\n",
       "</div>"
      ],
      "text/plain": [
       "  color presionado  frequency\n",
       "0           violet       1361\n",
       "1            green       1298\n",
       "2           yellow       1233\n",
       "3             blue       1182\n",
       "4        sin color        762\n",
       "5              red         29"
      ]
     },
     "execution_count": 89,
     "metadata": {},
     "output_type": "execute_result"
    }
   ],
   "source": [
    "#Obtengo un análisis univariado de una variable categórica en específico\n",
    "table2 = freq_tbl (dato_limpios['color presionado'])\n",
    "#Elimino las columnas percentage y cumulative perc para trabajar con las frecuencias\n",
    "table2 = table2.drop(['percentage','cumulative_perc'],axis=1)\n",
    "table2"
   ]
  },
  {
   "cell_type": "code",
   "execution_count": 90,
   "metadata": {},
   "outputs": [
    {
     "data": {
      "text/html": [
       "<div>\n",
       "<style scoped>\n",
       "    .dataframe tbody tr th:only-of-type {\n",
       "        vertical-align: middle;\n",
       "    }\n",
       "\n",
       "    .dataframe tbody tr th {\n",
       "        vertical-align: top;\n",
       "    }\n",
       "\n",
       "    .dataframe thead th {\n",
       "        text-align: right;\n",
       "    }\n",
       "</style>\n",
       "<table border=\"1\" class=\"dataframe\">\n",
       "  <thead>\n",
       "    <tr style=\"text-align: right;\">\n",
       "      <th></th>\n",
       "      <th>frequency</th>\n",
       "    </tr>\n",
       "    <tr>\n",
       "      <th>color presionado</th>\n",
       "      <th></th>\n",
       "    </tr>\n",
       "  </thead>\n",
       "  <tbody>\n",
       "    <tr>\n",
       "      <th>violet</th>\n",
       "      <td>1361</td>\n",
       "    </tr>\n",
       "    <tr>\n",
       "      <th>green</th>\n",
       "      <td>1298</td>\n",
       "    </tr>\n",
       "    <tr>\n",
       "      <th>yellow</th>\n",
       "      <td>1233</td>\n",
       "    </tr>\n",
       "    <tr>\n",
       "      <th>blue</th>\n",
       "      <td>1182</td>\n",
       "    </tr>\n",
       "    <tr>\n",
       "      <th>sin color</th>\n",
       "      <td>762</td>\n",
       "    </tr>\n",
       "    <tr>\n",
       "      <th>red</th>\n",
       "      <td>29</td>\n",
       "    </tr>\n",
       "  </tbody>\n",
       "</table>\n",
       "</div>"
      ],
      "text/plain": [
       "                  frequency\n",
       "color presionado           \n",
       "violet                 1361\n",
       "green                  1298\n",
       "yellow                 1233\n",
       "blue                   1182\n",
       "sin color               762\n",
       "red                      29"
      ]
     },
     "execution_count": 90,
     "metadata": {},
     "output_type": "execute_result"
    }
   ],
   "source": [
    "#Ajusto el índice de mi dataframe\n",
    "table2 = table2.set_index('color presionado')\n",
    "table2"
   ]
  },
  {
   "cell_type": "code",
   "execution_count": 91,
   "metadata": {},
   "outputs": [
    {
     "data": {
      "text/plain": [
       "Text(0, 0.5, 'Frecuecia')"
      ]
     },
     "execution_count": 91,
     "metadata": {},
     "output_type": "execute_result"
    },
    {
     "data": {
      "image/png": "[encoded data removed]",
      "text/plain": [
       "<Figure size 1000x400 with 1 Axes>"
      ]
     },
     "metadata": {},
     "output_type": "display_data"
    }
   ],
   "source": [
    "#Realizamos gráfico de barras\n",
    "table2.plot(kind = 'bar',width = 0.8, figsize = (10,4),color = 'sienna')\n",
    "plt.title('Color presionado')\n",
    "plt.xlabel('Color')\n",
    "plt.ylabel('Frecuecia')"
   ]
  },
  {
   "cell_type": "markdown",
   "metadata": {},
   "source": [
    "En esta gráfica, usamos de barra para observar la comparación entre los colores. La mayoría tiene una gran participación dentro de la plataforma, pero el rojo es el que casi nunca lo aprietan porque si los pacientes lo hacen, se eliminan del juego."
   ]
  },
  {
   "cell_type": "markdown",
   "metadata": {},
   "source": [
    "**Dificultad**"
   ]
  },
  {
   "cell_type": "code",
   "execution_count": 92,
   "metadata": {},
   "outputs": [
    {
     "data": {
      "text/html": [
       "<div>\n",
       "<style scoped>\n",
       "    .dataframe tbody tr th:only-of-type {\n",
       "        vertical-align: middle;\n",
       "    }\n",
       "\n",
       "    .dataframe tbody tr th {\n",
       "        vertical-align: top;\n",
       "    }\n",
       "\n",
       "    .dataframe thead th {\n",
       "        text-align: right;\n",
       "    }\n",
       "</style>\n",
       "<table border=\"1\" class=\"dataframe\">\n",
       "  <thead>\n",
       "    <tr style=\"text-align: right;\">\n",
       "      <th></th>\n",
       "      <th>dificultad</th>\n",
       "      <th>frequency</th>\n",
       "    </tr>\n",
       "  </thead>\n",
       "  <tbody>\n",
       "    <tr>\n",
       "      <th>0</th>\n",
       "      <td>Episodio 1</td>\n",
       "      <td>2357</td>\n",
       "    </tr>\n",
       "    <tr>\n",
       "      <th>1</th>\n",
       "      <td>Episodio 2</td>\n",
       "      <td>1493</td>\n",
       "    </tr>\n",
       "    <tr>\n",
       "      <th>2</th>\n",
       "      <td>Episodio 3</td>\n",
       "      <td>1292</td>\n",
       "    </tr>\n",
       "    <tr>\n",
       "      <th>3</th>\n",
       "      <td>Episodio 4</td>\n",
       "      <td>723</td>\n",
       "    </tr>\n",
       "  </tbody>\n",
       "</table>\n",
       "</div>"
      ],
      "text/plain": [
       "   dificultad  frequency\n",
       "0  Episodio 1       2357\n",
       "1  Episodio 2       1493\n",
       "2  Episodio 3       1292\n",
       "3  Episodio 4        723"
      ]
     },
     "execution_count": 92,
     "metadata": {},
     "output_type": "execute_result"
    }
   ],
   "source": [
    "#Obtengo un análisis univariado de una variable categórica en específico\n",
    "table3 = freq_tbl (dato_limpios['dificultad'])\n",
    "#Elimino las columnas percentage y cumulative perc para trabajar con las frecuencias\n",
    "table3 = table3.drop(['percentage','cumulative_perc'],axis=1)\n",
    "table3"
   ]
  },
  {
   "cell_type": "code",
   "execution_count": 93,
   "metadata": {},
   "outputs": [
    {
     "data": {
      "text/html": [
       "<div>\n",
       "<style scoped>\n",
       "    .dataframe tbody tr th:only-of-type {\n",
       "        vertical-align: middle;\n",
       "    }\n",
       "\n",
       "    .dataframe tbody tr th {\n",
       "        vertical-align: top;\n",
       "    }\n",
       "\n",
       "    .dataframe thead th {\n",
       "        text-align: right;\n",
       "    }\n",
       "</style>\n",
       "<table border=\"1\" class=\"dataframe\">\n",
       "  <thead>\n",
       "    <tr style=\"text-align: right;\">\n",
       "      <th></th>\n",
       "      <th>frequency</th>\n",
       "    </tr>\n",
       "    <tr>\n",
       "      <th>dificultad</th>\n",
       "      <th></th>\n",
       "    </tr>\n",
       "  </thead>\n",
       "  <tbody>\n",
       "    <tr>\n",
       "      <th>Episodio 1</th>\n",
       "      <td>2357</td>\n",
       "    </tr>\n",
       "    <tr>\n",
       "      <th>Episodio 2</th>\n",
       "      <td>1493</td>\n",
       "    </tr>\n",
       "    <tr>\n",
       "      <th>Episodio 3</th>\n",
       "      <td>1292</td>\n",
       "    </tr>\n",
       "    <tr>\n",
       "      <th>Episodio 4</th>\n",
       "      <td>723</td>\n",
       "    </tr>\n",
       "  </tbody>\n",
       "</table>\n",
       "</div>"
      ],
      "text/plain": [
       "            frequency\n",
       "dificultad           \n",
       "Episodio 1       2357\n",
       "Episodio 2       1493\n",
       "Episodio 3       1292\n",
       "Episodio 4        723"
      ]
     },
     "execution_count": 93,
     "metadata": {},
     "output_type": "execute_result"
    }
   ],
   "source": [
    "#Ajusto el índice de mi dataframe\n",
    "table3 = table3.set_index('dificultad')\n",
    "table3"
   ]
  },
  {
   "cell_type": "code",
   "execution_count": 94,
   "metadata": {},
   "outputs": [
    {
     "data": {
      "text/html": [
       "<div>\n",
       "<style scoped>\n",
       "    .dataframe tbody tr th:only-of-type {\n",
       "        vertical-align: middle;\n",
       "    }\n",
       "\n",
       "    .dataframe tbody tr th {\n",
       "        vertical-align: top;\n",
       "    }\n",
       "\n",
       "    .dataframe thead th {\n",
       "        text-align: right;\n",
       "    }\n",
       "</style>\n",
       "<table border=\"1\" class=\"dataframe\">\n",
       "  <thead>\n",
       "    <tr style=\"text-align: right;\">\n",
       "      <th></th>\n",
       "      <th>frequency</th>\n",
       "    </tr>\n",
       "    <tr>\n",
       "      <th>dificultad</th>\n",
       "      <th></th>\n",
       "    </tr>\n",
       "  </thead>\n",
       "  <tbody>\n",
       "    <tr>\n",
       "      <th>Episodio 1</th>\n",
       "      <td>2357</td>\n",
       "    </tr>\n",
       "    <tr>\n",
       "      <th>Episodio 2</th>\n",
       "      <td>1493</td>\n",
       "    </tr>\n",
       "    <tr>\n",
       "      <th>Episodio 3</th>\n",
       "      <td>1292</td>\n",
       "    </tr>\n",
       "    <tr>\n",
       "      <th>Episodio 4</th>\n",
       "      <td>723</td>\n",
       "    </tr>\n",
       "  </tbody>\n",
       "</table>\n",
       "</div>"
      ],
      "text/plain": [
       "            frequency\n",
       "dificultad           \n",
       "Episodio 1       2357\n",
       "Episodio 2       1493\n",
       "Episodio 3       1292\n",
       "Episodio 4        723"
      ]
     },
     "execution_count": 94,
     "metadata": {},
     "output_type": "execute_result"
    },
    {
     "data": {
      "image/png": "[encoded data removed]",
      "text/plain": [
       "<Figure size 1000x400 with 1 Axes>"
      ]
     },
     "metadata": {},
     "output_type": "display_data"
    }
   ],
   "source": [
    "#Realizamos gráfico de área del dataframe filtrado\n",
    "table3.plot (kind = 'area',figsize = (10,4),alpha = 0.5)\n",
    "table3"
   ]
  },
  {
   "cell_type": "markdown",
   "metadata": {},
   "source": [
    "Aquí usamos un gráfico de área porque podemos observar que tanto incrementa o disminuye la frecuencia de acuerdo al nivel o episodio. Observamos que conforme el episodio va incrementando, la frecuencia de su uso va disminuyendo, esto quiere decir que menos pacientes juegan los juegos más difíciles."
   ]
  },
  {
   "cell_type": "markdown",
   "metadata": {},
   "source": [
    "**Juego**"
   ]
  },
  {
   "cell_type": "code",
   "execution_count": 95,
   "metadata": {},
   "outputs": [
    {
     "data": {
      "text/html": [
       "<div>\n",
       "<style scoped>\n",
       "    .dataframe tbody tr th:only-of-type {\n",
       "        vertical-align: middle;\n",
       "    }\n",
       "\n",
       "    .dataframe tbody tr th {\n",
       "        vertical-align: top;\n",
       "    }\n",
       "\n",
       "    .dataframe thead th {\n",
       "        text-align: right;\n",
       "    }\n",
       "</style>\n",
       "<table border=\"1\" class=\"dataframe\">\n",
       "  <thead>\n",
       "    <tr style=\"text-align: right;\">\n",
       "      <th></th>\n",
       "      <th>Juego</th>\n",
       "      <th>frequency</th>\n",
       "    </tr>\n",
       "  </thead>\n",
       "  <tbody>\n",
       "    <tr>\n",
       "      <th>0</th>\n",
       "      <td>Astro</td>\n",
       "      <td>3799</td>\n",
       "    </tr>\n",
       "    <tr>\n",
       "      <th>1</th>\n",
       "      <td>Cadetes</td>\n",
       "      <td>2066</td>\n",
       "    </tr>\n",
       "  </tbody>\n",
       "</table>\n",
       "</div>"
      ],
      "text/plain": [
       "     Juego  frequency\n",
       "0    Astro       3799\n",
       "1  Cadetes       2066"
      ]
     },
     "execution_count": 95,
     "metadata": {},
     "output_type": "execute_result"
    }
   ],
   "source": [
    "#Obtengo un análisis univariado de una variable categórica en específico\n",
    "table4 = freq_tbl (dato_limpios['Juego'])\n",
    "#Elimino las columnas percentage y cumulative perc para trabajar con las frecuencias\n",
    "table4 = table4.drop(['percentage','cumulative_perc'],axis=1)\n",
    "table4"
   ]
  },
  {
   "cell_type": "code",
   "execution_count": 96,
   "metadata": {},
   "outputs": [
    {
     "data": {
      "text/html": [
       "<div>\n",
       "<style scoped>\n",
       "    .dataframe tbody tr th:only-of-type {\n",
       "        vertical-align: middle;\n",
       "    }\n",
       "\n",
       "    .dataframe tbody tr th {\n",
       "        vertical-align: top;\n",
       "    }\n",
       "\n",
       "    .dataframe thead th {\n",
       "        text-align: right;\n",
       "    }\n",
       "</style>\n",
       "<table border=\"1\" class=\"dataframe\">\n",
       "  <thead>\n",
       "    <tr style=\"text-align: right;\">\n",
       "      <th></th>\n",
       "      <th>frequency</th>\n",
       "    </tr>\n",
       "    <tr>\n",
       "      <th>Juego</th>\n",
       "      <th></th>\n",
       "    </tr>\n",
       "  </thead>\n",
       "  <tbody>\n",
       "    <tr>\n",
       "      <th>Astro</th>\n",
       "      <td>3799</td>\n",
       "    </tr>\n",
       "    <tr>\n",
       "      <th>Cadetes</th>\n",
       "      <td>2066</td>\n",
       "    </tr>\n",
       "  </tbody>\n",
       "</table>\n",
       "</div>"
      ],
      "text/plain": [
       "         frequency\n",
       "Juego             \n",
       "Astro         3799\n",
       "Cadetes       2066"
      ]
     },
     "execution_count": 96,
     "metadata": {},
     "output_type": "execute_result"
    }
   ],
   "source": [
    "#Ajusto el índice de mi dataframe\n",
    "table4 = table4.set_index('Juego')\n",
    "table4"
   ]
  },
  {
   "cell_type": "code",
   "execution_count": 97,
   "metadata": {},
   "outputs": [
    {
     "data": {
      "text/plain": [
       "<Axes: ylabel='frequency'>"
      ]
     },
     "execution_count": 97,
     "metadata": {},
     "output_type": "execute_result"
    },
    {
     "data": {
      "image/png": "[encoded data removed]",
      "text/plain": [
       "<Figure size 1000x500 with 1 Axes>"
      ]
     },
     "metadata": {},
     "output_type": "display_data"
    }
   ],
   "source": [
    "#Realizmaos gráfico de pastel\n",
    "table4['frequency'].plot(kind = 'pie',figsize = (10,5),shadow = True, autopct = '%0.1f %%')"
   ]
  },
  {
   "cell_type": "markdown",
   "metadata": {},
   "source": [
    "Escogimos una de pastel para observar la comparación entre el juego de Astros y cadetes, y podemos observar una gran frecuencia en el de Astro, dando a entender que es el más preferido dentro de los jugadores."
   ]
  },
  {
   "cell_type": "markdown",
   "metadata": {},
   "source": [
    "**Gráficos de columnas númericas a categoricas**"
   ]
  },
  {
   "cell_type": "code",
   "execution_count": 98,
   "metadata": {},
   "outputs": [],
   "source": [
    "#Creamos copias de los dos data frame sobre los que trabajaremos\n",
    "df_sn = df.copy()\n",
    "df_sno = dato_limpios.copy()"
   ]
  },
  {
   "cell_type": "code",
   "execution_count": 99,
   "metadata": {},
   "outputs": [
    {
     "name": "stdout",
     "output_type": "stream",
     "text": [
      "<class 'pandas.core.frame.DataFrame'>\n",
      "RangeIndex: 5865 entries, 0 to 5864\n",
      "Data columns (total 13 columns):\n",
      " #   Column                 Non-Null Count  Dtype         \n",
      "---  ------                 --------------  -----         \n",
      " 0   Administrador          5865 non-null   object        \n",
      " 1   Usuario                5865 non-null   object        \n",
      " 2   botón correcto         5865 non-null   int64         \n",
      " 3   tiempo de interacción  5865 non-null   float64       \n",
      " 4   mini juego             5865 non-null   object        \n",
      " 5   número de interacción  5865 non-null   float64       \n",
      " 6   color presionado       5865 non-null   object        \n",
      " 7   dificultad             5865 non-null   object        \n",
      " 8   fecha                  5865 non-null   datetime64[ns]\n",
      " 9   Juego                  5865 non-null   object        \n",
      " 10  auto push              5865 non-null   int64         \n",
      " 11  tiempo de lección      5865 non-null   float64       \n",
      " 12  tiempo de sesión       5865 non-null   float64       \n",
      "dtypes: datetime64[ns](1), float64(4), int64(2), object(6)\n",
      "memory usage: 595.8+ KB\n"
     ]
    }
   ],
   "source": [
    "#Extraemos la info del DataFrame limpio de nulos\n",
    "df_sn.info()"
   ]
  },
  {
   "cell_type": "code",
   "execution_count": 100,
   "metadata": {},
   "outputs": [
    {
     "name": "stdout",
     "output_type": "stream",
     "text": [
      "<class 'pandas.core.frame.DataFrame'>\n",
      "RangeIndex: 5865 entries, 0 to 5864\n",
      "Data columns (total 13 columns):\n",
      " #   Column                 Non-Null Count  Dtype         \n",
      "---  ------                 --------------  -----         \n",
      " 0   Administrador          5865 non-null   object        \n",
      " 1   Usuario                5865 non-null   object        \n",
      " 2   mini juego             5865 non-null   object        \n",
      " 3   color presionado       5865 non-null   object        \n",
      " 4   dificultad             5865 non-null   object        \n",
      " 5   fecha                  5865 non-null   datetime64[ns]\n",
      " 6   Juego                  5865 non-null   object        \n",
      " 7   botón correcto         5865 non-null   int64         \n",
      " 8   tiempo de interacción  5865 non-null   float64       \n",
      " 9   número de interacción  5865 non-null   float64       \n",
      " 10  auto push              5865 non-null   float64       \n",
      " 11  tiempo de lección      5865 non-null   float64       \n",
      " 12  tiempo de sesión       5865 non-null   float64       \n",
      "dtypes: datetime64[ns](1), float64(5), int64(1), object(6)\n",
      "memory usage: 595.8+ KB\n"
     ]
    }
   ],
   "source": [
    "#Extraemos la info del DataFrame limpio de nulos y de outliers\n",
    "df_sno.info()"
   ]
  },
  {
   "cell_type": "code",
   "execution_count": 101,
   "metadata": {},
   "outputs": [
    {
     "name": "stdout",
     "output_type": "stream",
     "text": [
      "<class 'pandas.core.series.Series'>\n",
      "RangeIndex: 5865 entries, 0 to 5864\n",
      "Series name: tiempo de interacción\n",
      "Non-Null Count  Dtype  \n",
      "--------------  -----  \n",
      "5865 non-null   float64\n",
      "dtypes: float64(1)\n",
      "memory usage: 45.9 KB\n",
      "None\n",
      "<class 'pandas.core.series.Series'>\n",
      "RangeIndex: 5865 entries, 0 to 5864\n",
      "Series name: tiempo de interacción\n",
      "Non-Null Count  Dtype  \n",
      "--------------  -----  \n",
      "5865 non-null   float64\n",
      "dtypes: float64(1)\n",
      "memory usage: 45.9 KB\n",
      "None\n"
     ]
    }
   ],
   "source": [
    "#Primero obtendremos el número de datos de la variable tiempo de interacción de ambos data frame\n",
    "#(Comprobamos que para las tres variables había el mimso número de entradas por lo que n tendría el mismo valor para las tres variables)\n",
    "print(df_sn['tiempo de interacción']. info())\n",
    "print(df_sno['tiempo de interacción']. info())\n",
    "n1=5865\n",
    "n2=5865"
   ]
  },
  {
   "cell_type": "code",
   "execution_count": 102,
   "metadata": {},
   "outputs": [
    {
     "name": "stdout",
     "output_type": "stream",
     "text": [
      "[0.0, 165.1935]\n",
      "[0.0, 21.78444]\n"
     ]
    }
   ],
   "source": [
    "#Definimos el mínimo y el máximo de la variable seleccionada en ambos dataframe\n",
    "Max1=df_sn['tiempo de interacción'].max()\n",
    "Min1=df_sn['tiempo de interacción'].min()\n",
    "Limites1= [Min1, Max1]\n",
    "Max2=df_sno['tiempo de interacción'].max()\n",
    "Min2=df_sno['tiempo de interacción'].min()\n",
    "Limites2= [Min2, Max2]\n",
    "print(Limites1)\n",
    "print(Limites2)"
   ]
  },
  {
   "cell_type": "code",
   "execution_count": 103,
   "metadata": {},
   "outputs": [
    {
     "name": "stdout",
     "output_type": "stream",
     "text": [
      "165.1935\n",
      "21.78444\n"
     ]
    }
   ],
   "source": [
    "#Calculamos el rango que tendrá de datos\n",
    "r1=Max1-Min1\n",
    "r2=Max2-Min2\n",
    "print(r1)\n",
    "print(r2)"
   ]
  },
  {
   "cell_type": "code",
   "execution_count": 104,
   "metadata": {},
   "outputs": [
    {
     "name": "stdout",
     "output_type": "stream",
     "text": [
      "13.51064981461914\n",
      "13.51064981461914\n"
     ]
    }
   ],
   "source": [
    "#Calculamos el número de intervalos (dado a que todos tienen el mismo n, consideraremos 14 intervalos para las tres variables)\n",
    "ni1=1+3.32*np.log10(n1)\n",
    "ni2=1+3.32*np.log10(n2)\n",
    "\n",
    "print(ni1)\n",
    "print(ni2)"
   ]
  },
  {
   "cell_type": "code",
   "execution_count": 105,
   "metadata": {},
   "outputs": [
    {
     "name": "stdout",
     "output_type": "stream",
     "text": [
      "[  0.      12.7072  25.4144  38.1216  50.8288  63.536   76.2432  88.9504\n",
      " 101.6576 114.3648 127.072  139.7792 152.4864 165.1936]\n",
      "[ 0.          1.67572692  3.35145385  5.02718077  6.70290769  8.37863462\n",
      " 10.05436154 11.73008846 13.40581538 15.08154231 16.75726923 18.43299615\n",
      " 20.10872308 21.78445   ]\n"
     ]
    }
   ],
   "source": [
    "#Definimos los intervalos para la variable en ambos dataframe \n",
    "intervalos1=np.linspace(0.0, 165.1936, 14)\n",
    "intervalos2=np.linspace(0.0, 21.78445, 14)\n",
    "print(intervalos1)\n",
    "print(intervalos2)"
   ]
  },
  {
   "cell_type": "code",
   "execution_count": 106,
   "metadata": {},
   "outputs": [],
   "source": [
    "#Definimos las categorías para ambos dataframe (dado a que tendremos el mismo número de variables para las tres variables usaremos las mismas listas para las tres variables)\n",
    "categorias1= [\"Muy corto (0 - 12.7)\", \"Corto (12.7 - 25.4)\",\"Relativamente corto (25.4 - 38.1)\", \"Moderadamente corto (38.1 - 50.8)\",\n",
    "             \"Intermedio bajo (50.8 - 63.5)\", \"Intermedio (63.5 - 76.2)\",\"Intermedio alto (76.2 - 88.9)\", \"Moderadamente largo (88.9 - 101.6)\",\n",
    "             \"Relativamente largo (101.6 - 114.3)\", \"Largo (114.3 - 127.0)\",\"Muy largo (127.0 - 139.7)\", \"Extenso (139.7 - 152.4)\", \n",
    "             \"Muy extenso (152.4 - 165.2)\"]\n",
    "categorias2= [\"Muy corto (0 - 1.7)\", \"Corto (1.7 - 3.3)\",\"Relativamente corto (3.3 - 5)\", \"Moderadamente corto (5 - 6.7)\",\n",
    "             \"Intermedio bajo (6.7 - 8.4)\", \"Intermedio (8.4 - 10)\",\"Intermedio alto (10 - 11.7)\", \"Moderadamente largo (11.7 - 13.4)\",\n",
    "             \"Relativamente largo (13.4 - 15)\", \"Largo (15 - 16.7)\",\"Muy largo (16.7 - 18.4)\", \"Extenso (18.4 - 20.1)\", \n",
    "             \"Muy extenso (20.1 - 21.8)\"]"
   ]
  },
  {
   "cell_type": "code",
   "execution_count": 107,
   "metadata": {},
   "outputs": [
    {
     "data": {
      "text/plain": [
       "0       Muy corto (0 - 12.7)\n",
       "1       Muy corto (0 - 12.7)\n",
       "2       Muy corto (0 - 12.7)\n",
       "3       Muy corto (0 - 12.7)\n",
       "4       Muy corto (0 - 12.7)\n",
       "                ...         \n",
       "5860                     NaN\n",
       "5861    Muy corto (0 - 12.7)\n",
       "5862                     NaN\n",
       "5863                     NaN\n",
       "5864                     NaN\n",
       "Name: tiempo de interacción, Length: 5865, dtype: category\n",
       "Categories (13, object): ['Muy corto (0 - 12.7)' < 'Corto (12.7 - 25.4)' < 'Relativamente corto (25.4 - 38.1)' < 'Moderadamente corto (38.1 - 50.8)' ... 'Largo (114.3 - 127.0)' < 'Muy largo (127.0 - 139.7)' < 'Extenso (139.7 - 152.4)' < 'Muy extenso (152.4 - 165.2)']"
      ]
     },
     "execution_count": 107,
     "metadata": {},
     "output_type": "execute_result"
    }
   ],
   "source": [
    "#Finalmente creamos las categorías en la variable del primer datframe\n",
    "df_sn['tiempo de interacción']=pd.cut(x= df_sn['tiempo de interacción'], bins=intervalos1, labels= categorias1)\n",
    "df_sn['tiempo de interacción']"
   ]
  },
  {
   "cell_type": "code",
   "execution_count": 108,
   "metadata": {},
   "outputs": [
    {
     "data": {
      "text/plain": [
       "0       Moderadamente corto (5 - 6.7)\n",
       "1                 Muy corto (0 - 1.7)\n",
       "2                   Corto (1.7 - 3.3)\n",
       "3                   Corto (1.7 - 3.3)\n",
       "4       Relativamente corto (3.3 - 5)\n",
       "                    ...              \n",
       "5860                              NaN\n",
       "5861                Corto (1.7 - 3.3)\n",
       "5862                              NaN\n",
       "5863                              NaN\n",
       "5864                              NaN\n",
       "Name: tiempo de interacción, Length: 5865, dtype: category\n",
       "Categories (13, object): ['Muy corto (0 - 1.7)' < 'Corto (1.7 - 3.3)' < 'Relativamente corto (3.3 - 5)' < 'Moderadamente corto (5 - 6.7)' ... 'Largo (15 - 16.7)' < 'Muy largo (16.7 - 18.4)' < 'Extenso (18.4 - 20.1)' < 'Muy extenso (20.1 - 21.8)']"
      ]
     },
     "execution_count": 108,
     "metadata": {},
     "output_type": "execute_result"
    }
   ],
   "source": [
    "#Finalmente creamos las categorías en la variable del segundo datframe\n",
    "df_sno['tiempo de interacción']=pd.cut(x= df_sno['tiempo de interacción'], bins=intervalos2, labels= categorias2)\n",
    "df_sno['tiempo de interacción']"
   ]
  },
  {
   "cell_type": "code",
   "execution_count": 109,
   "metadata": {},
   "outputs": [
    {
     "data": {
      "text/html": [
       "<div>\n",
       "<style scoped>\n",
       "    .dataframe tbody tr th:only-of-type {\n",
       "        vertical-align: middle;\n",
       "    }\n",
       "\n",
       "    .dataframe tbody tr th {\n",
       "        vertical-align: top;\n",
       "    }\n",
       "\n",
       "    .dataframe thead th {\n",
       "        text-align: right;\n",
       "    }\n",
       "</style>\n",
       "<table border=\"1\" class=\"dataframe\">\n",
       "  <thead>\n",
       "    <tr style=\"text-align: right;\">\n",
       "      <th></th>\n",
       "      <th>frequency</th>\n",
       "    </tr>\n",
       "    <tr>\n",
       "      <th>tiempo de interacción</th>\n",
       "      <th></th>\n",
       "    </tr>\n",
       "  </thead>\n",
       "  <tbody>\n",
       "    <tr>\n",
       "      <th>Muy corto (0 - 12.7)</th>\n",
       "      <td>3734</td>\n",
       "    </tr>\n",
       "    <tr>\n",
       "      <th>Corto (12.7 - 25.4)</th>\n",
       "      <td>606</td>\n",
       "    </tr>\n",
       "    <tr>\n",
       "      <th>Relativamente corto (25.4 - 38.1)</th>\n",
       "      <td>236</td>\n",
       "    </tr>\n",
       "    <tr>\n",
       "      <th>Moderadamente corto (38.1 - 50.8)</th>\n",
       "      <td>167</td>\n",
       "    </tr>\n",
       "    <tr>\n",
       "      <th>Intermedio bajo (50.8 - 63.5)</th>\n",
       "      <td>50</td>\n",
       "    </tr>\n",
       "    <tr>\n",
       "      <th>Intermedio (63.5 - 76.2)</th>\n",
       "      <td>38</td>\n",
       "    </tr>\n",
       "    <tr>\n",
       "      <th>Intermedio alto (76.2 - 88.9)</th>\n",
       "      <td>38</td>\n",
       "    </tr>\n",
       "    <tr>\n",
       "      <th>Moderadamente largo (88.9 - 101.6)</th>\n",
       "      <td>16</td>\n",
       "    </tr>\n",
       "  </tbody>\n",
       "</table>\n",
       "</div>"
      ],
      "text/plain": [
       "                                    frequency\n",
       "tiempo de interacción                        \n",
       "Muy corto (0 - 12.7)                     3734\n",
       "Corto (12.7 - 25.4)                       606\n",
       "Relativamente corto (25.4 - 38.1)         236\n",
       "Moderadamente corto (38.1 - 50.8)         167\n",
       "Intermedio bajo (50.8 - 63.5)              50\n",
       "Intermedio (63.5 - 76.2)                   38\n",
       "Intermedio alto (76.2 - 88.9)              38\n",
       "Moderadamente largo (88.9 - 101.6)         16"
      ]
     },
     "execution_count": 109,
     "metadata": {},
     "output_type": "execute_result"
    }
   ],
   "source": [
    "#Obtenemos un análisis univariado de la variable categórica y eliminamos las columnas \"percentage\" y \"cumulative_perc\"\n",
    "t1= freq_tbl(df_sn['tiempo de interacción'])\n",
    "t1 = t1.drop(['percentage','cumulative_perc'], axis=1)\n",
    "#Creamos el filtro de los valores más representativos\n",
    "f= t1[t1['frequency']>4]\n",
    "#Ajustamos el indice del dataframe\n",
    "f= f.set_index('tiempo de interacción')\n",
    "f"
   ]
  },
  {
   "cell_type": "code",
   "execution_count": 110,
   "metadata": {},
   "outputs": [
    {
     "data": {
      "text/plain": [
       "Text(0, 0.5, 'Frecuencia')"
      ]
     },
     "execution_count": 110,
     "metadata": {},
     "output_type": "execute_result"
    },
    {
     "data": {
      "image/png": "[encoded data removed]",
      "text/plain": [
       "<Figure size 1000x400 with 1 Axes>"
      ]
     },
     "metadata": {},
     "output_type": "display_data"
    }
   ],
   "source": [
    "#Realizamos grafico de barras del dataframe filtrado\n",
    "f.plot(kind = 'bar', width=0.8, figsize=(10,4), color= \"red\")\n",
    "plt.title('Tiempo de interacción de los usuarios')\n",
    "plt.xlabel('Tiempo')\n",
    "plt.ylabel('Frecuencia')"
   ]
  },
  {
   "cell_type": "code",
   "execution_count": 111,
   "metadata": {},
   "outputs": [
    {
     "data": {
      "text/html": [
       "<div>\n",
       "<style scoped>\n",
       "    .dataframe tbody tr th:only-of-type {\n",
       "        vertical-align: middle;\n",
       "    }\n",
       "\n",
       "    .dataframe tbody tr th {\n",
       "        vertical-align: top;\n",
       "    }\n",
       "\n",
       "    .dataframe thead th {\n",
       "        text-align: right;\n",
       "    }\n",
       "</style>\n",
       "<table border=\"1\" class=\"dataframe\">\n",
       "  <thead>\n",
       "    <tr style=\"text-align: right;\">\n",
       "      <th></th>\n",
       "      <th>frequency</th>\n",
       "    </tr>\n",
       "    <tr>\n",
       "      <th>tiempo de interacción</th>\n",
       "      <th></th>\n",
       "    </tr>\n",
       "  </thead>\n",
       "  <tbody>\n",
       "    <tr>\n",
       "      <th>Relativamente corto (3.3 - 5)</th>\n",
       "      <td>1309</td>\n",
       "    </tr>\n",
       "    <tr>\n",
       "      <th>Corto (1.7 - 3.3)</th>\n",
       "      <td>1079</td>\n",
       "    </tr>\n",
       "    <tr>\n",
       "      <th>Muy corto (0 - 1.7)</th>\n",
       "      <td>935</td>\n",
       "    </tr>\n",
       "    <tr>\n",
       "      <th>Moderadamente corto (5 - 6.7)</th>\n",
       "      <td>422</td>\n",
       "    </tr>\n",
       "    <tr>\n",
       "      <th>Intermedio bajo (6.7 - 8.4)</th>\n",
       "      <td>254</td>\n",
       "    </tr>\n",
       "    <tr>\n",
       "      <th>Intermedio (8.4 - 10)</th>\n",
       "      <td>172</td>\n",
       "    </tr>\n",
       "    <tr>\n",
       "      <th>Intermedio alto (10 - 11.7)</th>\n",
       "      <td>162</td>\n",
       "    </tr>\n",
       "    <tr>\n",
       "      <th>Moderadamente largo (11.7 - 13.4)</th>\n",
       "      <td>123</td>\n",
       "    </tr>\n",
       "  </tbody>\n",
       "</table>\n",
       "</div>"
      ],
      "text/plain": [
       "                                   frequency\n",
       "tiempo de interacción                       \n",
       "Relativamente corto (3.3 - 5)           1309\n",
       "Corto (1.7 - 3.3)                       1079\n",
       "Muy corto (0 - 1.7)                      935\n",
       "Moderadamente corto (5 - 6.7)            422\n",
       "Intermedio bajo (6.7 - 8.4)              254\n",
       "Intermedio (8.4 - 10)                    172\n",
       "Intermedio alto (10 - 11.7)              162\n",
       "Moderadamente largo (11.7 - 13.4)        123"
      ]
     },
     "execution_count": 111,
     "metadata": {},
     "output_type": "execute_result"
    }
   ],
   "source": [
    "#Obtenemos un análisis univariado de la variable categórica (segundo frame) y eliminamos las columnas \"percentage\" y \"cumulative_perc\"\n",
    "t2= freq_tbl(df_sno['tiempo de interacción'])\n",
    "t2 = t2.drop(['percentage','cumulative_perc'], axis=1)\n",
    "#Creamos el filtro de los valores más representativos\n",
    "f2= t2[t2['frequency']>100]\n",
    "#Ajustamos el indice del dataframe\n",
    "f2= f2.set_index('tiempo de interacción')\n",
    "f2"
   ]
  },
  {
   "cell_type": "code",
   "execution_count": 112,
   "metadata": {},
   "outputs": [
    {
     "data": {
      "text/plain": [
       "Text(0, 0.5, 'Frecuencia')"
      ]
     },
     "execution_count": 112,
     "metadata": {},
     "output_type": "execute_result"
    },
    {
     "data": {
      "image/png": "[encoded data removed]",
      "text/plain": [
       "<Figure size 1000x400 with 1 Axes>"
      ]
     },
     "metadata": {},
     "output_type": "display_data"
    }
   ],
   "source": [
    "#Realizamos grafico de barras del dataframe filtrado\n",
    "f2.plot(kind = 'bar', width=0.8, figsize=(10,4), color= \"red\")\n",
    "plt.title('Tiempo de interacción de los usuarios')\n",
    "plt.xlabel('Tiempo')\n",
    "plt.ylabel('Frecuencia')"
   ]
  },
  {
   "cell_type": "code",
   "execution_count": 113,
   "metadata": {},
   "outputs": [
    {
     "name": "stdout",
     "output_type": "stream",
     "text": [
      "<class 'pandas.core.series.Series'>\n",
      "RangeIndex: 5865 entries, 0 to 5864\n",
      "Series name: tiempo de lección\n",
      "Non-Null Count  Dtype  \n",
      "--------------  -----  \n",
      "5865 non-null   float64\n",
      "dtypes: float64(1)\n",
      "memory usage: 45.9 KB\n",
      "None\n",
      "<class 'pandas.core.series.Series'>\n",
      "RangeIndex: 5865 entries, 0 to 5864\n",
      "Series name: tiempo de lección\n",
      "Non-Null Count  Dtype  \n",
      "--------------  -----  \n",
      "5865 non-null   float64\n",
      "dtypes: float64(1)\n",
      "memory usage: 45.9 KB\n",
      "None\n"
     ]
    }
   ],
   "source": [
    "#Comprobamos el número de datos de entrada\n",
    "print(df_sn['tiempo de lección']. info())\n",
    "print(df_sno['tiempo de lección']. info())"
   ]
  },
  {
   "cell_type": "code",
   "execution_count": 114,
   "metadata": {},
   "outputs": [
    {
     "name": "stdout",
     "output_type": "stream",
     "text": [
      "[0.0, 781.3312]\n",
      "[0.0, 0.0]\n"
     ]
    }
   ],
   "source": [
    "#Definimos el mínimo y el máximo de la variable seleccionada en ambos dataframe\n",
    "max_1=df_sn['tiempo de lección'].max()\n",
    "min_1=df_sn['tiempo de lección'].min()\n",
    "limites_1= [min_1, max_1]\n",
    "max_2=df_sno['tiempo de lección'].max()\n",
    "min_2=df_sno['tiempo de lección'].min()\n",
    "limites_2= [min_2, max_2]\n",
    "print(limites_1)\n",
    "print(limites_2) #Dado a que observamos un máximo y un mínimo de 0, solo aplicaremos los filtros para el primer dataframe"
   ]
  },
  {
   "cell_type": "code",
   "execution_count": 115,
   "metadata": {},
   "outputs": [
    {
     "data": {
      "text/plain": [
       "array([  0.        ,  60.10240769, 120.20481538, 180.30722308,\n",
       "       240.40963077, 300.51203846, 360.61444615, 420.71685385,\n",
       "       480.81926154, 540.92166923, 601.02407692, 661.12648462,\n",
       "       721.22889231, 781.3313    ])"
      ]
     },
     "execution_count": 115,
     "metadata": {},
     "output_type": "execute_result"
    }
   ],
   "source": [
    "#Definimos los intervalos\n",
    "intervalos_1=np.linspace(0.0, 781.3313, 14)\n",
    "intervalos_1"
   ]
  },
  {
   "cell_type": "code",
   "execution_count": 116,
   "metadata": {},
   "outputs": [],
   "source": [
    "categorias_1 = [\"Muy corto (0.00 - 60.10)\", \"Corto (60.10 - 120.20)\", \"Relativamente corto (120.20 - 180.31)\", \"Moderadamente corto (180.31 - 240.41)\", \n",
    "                \"Intermedio bajo (240.41 - 300.51)\", \"Intermedio (300.51 - 360.61)\", \"Intermedio alto (360.61 - 420.72)\", \"Moderadamente largo (420.72 - 480.82)\", \n",
    "                \"Relativamente largo (480.82 - 540.92)\", \"Largo (540.92 - 601.02)\", \"Muy largo (601.02 - 661.13)\", \"Extenso (661.13 - 721.23)\", \n",
    "                \"Muy extenso (721.23 - 781.33)\"]"
   ]
  },
  {
   "cell_type": "code",
   "execution_count": 117,
   "metadata": {},
   "outputs": [
    {
     "data": {
      "text/plain": [
       "0                            NaN\n",
       "1                            NaN\n",
       "2                            NaN\n",
       "3                            NaN\n",
       "4                            NaN\n",
       "                  ...           \n",
       "5860                         NaN\n",
       "5861                         NaN\n",
       "5862    Muy corto (0.00 - 60.10)\n",
       "5863                         NaN\n",
       "5864                         NaN\n",
       "Name: tiempo de lección, Length: 5865, dtype: category\n",
       "Categories (13, object): ['Muy corto (0.00 - 60.10)' < 'Corto (60.10 - 120.20)' < 'Relativamente corto (120.20 - 180.31)' < 'Moderadamente corto (180.31 - 240.41)' ... 'Largo (540.92 - 601.02)' < 'Muy largo (601.02 - 661.13)' < 'Extenso (661.13 - 721.23)' < 'Muy extenso (721.23 - 781.33)']"
      ]
     },
     "execution_count": 117,
     "metadata": {},
     "output_type": "execute_result"
    }
   ],
   "source": [
    "#Finalmente creamos las categorías en la variable del primer datframe\n",
    "df_sn['tiempo de lección']=pd.cut(x= df_sn['tiempo de lección'], bins=intervalos_1, labels= categorias_1)\n",
    "df_sn['tiempo de lección']"
   ]
  },
  {
   "cell_type": "code",
   "execution_count": 118,
   "metadata": {},
   "outputs": [
    {
     "data": {
      "text/html": [
       "<div>\n",
       "<style scoped>\n",
       "    .dataframe tbody tr th:only-of-type {\n",
       "        vertical-align: middle;\n",
       "    }\n",
       "\n",
       "    .dataframe tbody tr th {\n",
       "        vertical-align: top;\n",
       "    }\n",
       "\n",
       "    .dataframe thead th {\n",
       "        text-align: right;\n",
       "    }\n",
       "</style>\n",
       "<table border=\"1\" class=\"dataframe\">\n",
       "  <thead>\n",
       "    <tr style=\"text-align: right;\">\n",
       "      <th></th>\n",
       "      <th>frequency</th>\n",
       "    </tr>\n",
       "    <tr>\n",
       "      <th>tiempo de lección</th>\n",
       "      <th></th>\n",
       "    </tr>\n",
       "  </thead>\n",
       "  <tbody>\n",
       "    <tr>\n",
       "      <th>Muy corto (0.00 - 60.10)</th>\n",
       "      <td>368</td>\n",
       "    </tr>\n",
       "    <tr>\n",
       "      <th>Corto (60.10 - 120.20)</th>\n",
       "      <td>158</td>\n",
       "    </tr>\n",
       "    <tr>\n",
       "      <th>Relativamente corto (120.20 - 180.31)</th>\n",
       "      <td>35</td>\n",
       "    </tr>\n",
       "    <tr>\n",
       "      <th>Moderadamente corto (180.31 - 240.41)</th>\n",
       "      <td>16</td>\n",
       "    </tr>\n",
       "  </tbody>\n",
       "</table>\n",
       "</div>"
      ],
      "text/plain": [
       "                                       frequency\n",
       "tiempo de lección                               \n",
       "Muy corto (0.00 - 60.10)                     368\n",
       "Corto (60.10 - 120.20)                       158\n",
       "Relativamente corto (120.20 - 180.31)         35\n",
       "Moderadamente corto (180.31 - 240.41)         16"
      ]
     },
     "execution_count": 118,
     "metadata": {},
     "output_type": "execute_result"
    }
   ],
   "source": [
    "#Obtenemos un análisis univariado de la variable categórica y eliminamos las columnas \"percentage\" y \"cumulative_perc\"\n",
    "t_1= freq_tbl(df_sn['tiempo de lección'])\n",
    "t_1 = t_1.drop(['percentage','cumulative_perc'], axis=1)\n",
    "#Creamos el filtro de los valores más representativos\n",
    "f_1= t_1[t_1['frequency']>6]\n",
    "#Ajustamos el indice del dataframe\n",
    "f_1= f_1.set_index('tiempo de lección')\n",
    "f_1"
   ]
  },
  {
   "cell_type": "code",
   "execution_count": 119,
   "metadata": {},
   "outputs": [
    {
     "data": {
      "text/plain": [
       "<Axes: xlabel='tiempo de lección'>"
      ]
     },
     "execution_count": 119,
     "metadata": {},
     "output_type": "execute_result"
    },
    {
     "data": {
      "image/png": "[encoded data removed]",
      "text/plain": [
       "<Figure size 1000x400 with 1 Axes>"
      ]
     },
     "metadata": {},
     "output_type": "display_data"
    }
   ],
   "source": [
    "#Realizamos grafico de área del dataframe filtrado\n",
    "f_1.plot(kind='area', figsize=(10,4),alpha = 0.5)"
   ]
  },
  {
   "cell_type": "code",
   "execution_count": 120,
   "metadata": {},
   "outputs": [
    {
     "name": "stdout",
     "output_type": "stream",
     "text": [
      "[0.0, 2144.452]\n",
      "[0.0, 0.0]\n"
     ]
    }
   ],
   "source": [
    "#Definimos el mínimo y el máximo de la variable seleccionada en ambos dataframe\n",
    "Max__1=df_sn['tiempo de sesión'].max()\n",
    "Min__1=df_sn['tiempo de sesión'].min()\n",
    "Limites__1= [Min__1, Max__1]\n",
    "Max__2=df_sno['tiempo de sesión'].max()\n",
    "Min__2=df_sno['tiempo de sesión'].min()\n",
    "Limites__2= [Min__2, Max__2]\n",
    "print(Limites__1)\n",
    "print(Limites__2) #Dado a que observamos un máximo y un mínimo de 0, solo aplicaremos los filtros para el primer dataframe"
   ]
  },
  {
   "cell_type": "code",
   "execution_count": 121,
   "metadata": {},
   "outputs": [
    {
     "data": {
      "text/plain": [
       "array([   0.        ,  164.95792308,  329.91584615,  494.87376923,\n",
       "        659.83169231,  824.78961538,  989.74753846, 1154.70546154,\n",
       "       1319.66338462, 1484.62130769, 1649.57923077, 1814.53715385,\n",
       "       1979.49507692, 2144.453     ])"
      ]
     },
     "execution_count": 121,
     "metadata": {},
     "output_type": "execute_result"
    }
   ],
   "source": [
    "#Definimos los intervalos\n",
    "intervalos__1=np.linspace(0.0, 2144.453, 14)\n",
    "intervalos__1"
   ]
  },
  {
   "cell_type": "code",
   "execution_count": 122,
   "metadata": {},
   "outputs": [],
   "source": [
    "categorias__1 = [\"Muy corto (0.00 - 164.96)\", \"Corto (164.96 - 329.92)\", \"Relativamente corto (329.92 - 494.87)\", \"Moderadamente corto (494.87 - 659.83)\", \n",
    "                \"Intermedio bajo (659.83 - 824.79)\", \"Intermedio (824.79 - 989.75)\", \"Intermedio alto (989.75 - 1154.71)\", \"Moderadamente largo (1154.71 - 1319.66)\", \n",
    "                \"Relativamente largo (1319.66 - 1484.62)\", \"Largo (1484.62 - 1649.58)\", \"Muy largo (1649.58 - 1814.54)\", \"Extenso (1814.54 - 1979.50)\", \n",
    "                \"Muy extenso (1979.50 - 2144.45)\"]"
   ]
  },
  {
   "cell_type": "code",
   "execution_count": 123,
   "metadata": {},
   "outputs": [
    {
     "data": {
      "text/plain": [
       "0                                         NaN\n",
       "1                                         NaN\n",
       "2                                         NaN\n",
       "3                                         NaN\n",
       "4                                         NaN\n",
       "                        ...                  \n",
       "5860    Relativamente corto (329.92 - 494.87)\n",
       "5861                                      NaN\n",
       "5862                                      NaN\n",
       "5863                Muy corto (0.00 - 164.96)\n",
       "5864                                      NaN\n",
       "Name: tiempo de sesión, Length: 5865, dtype: category\n",
       "Categories (13, object): ['Muy corto (0.00 - 164.96)' < 'Corto (164.96 - 329.92)' < 'Relativamente corto (329.92 - 494.87)' < 'Moderadamente corto (494.87 - 659.83)' ... 'Largo (1484.62 - 1649.58)' < 'Muy largo (1649.58 - 1814.54)' < 'Extenso (1814.54 - 1979.50)' < 'Muy extenso (1979.50 - 2144.45)']"
      ]
     },
     "execution_count": 123,
     "metadata": {},
     "output_type": "execute_result"
    }
   ],
   "source": [
    "#Finalmente creamos las categorías en la variable del primer datframe\n",
    "df_sn['tiempo de sesión']=pd.cut(x= df_sn['tiempo de sesión'], bins=intervalos__1, labels= categorias__1)\n",
    "df_sn['tiempo de sesión']"
   ]
  },
  {
   "cell_type": "code",
   "execution_count": 124,
   "metadata": {},
   "outputs": [
    {
     "data": {
      "text/html": [
       "<div>\n",
       "<style scoped>\n",
       "    .dataframe tbody tr th:only-of-type {\n",
       "        vertical-align: middle;\n",
       "    }\n",
       "\n",
       "    .dataframe tbody tr th {\n",
       "        vertical-align: top;\n",
       "    }\n",
       "\n",
       "    .dataframe thead th {\n",
       "        text-align: right;\n",
       "    }\n",
       "</style>\n",
       "<table border=\"1\" class=\"dataframe\">\n",
       "  <thead>\n",
       "    <tr style=\"text-align: right;\">\n",
       "      <th></th>\n",
       "      <th>frequency</th>\n",
       "    </tr>\n",
       "    <tr>\n",
       "      <th>tiempo de sesión</th>\n",
       "      <th></th>\n",
       "    </tr>\n",
       "  </thead>\n",
       "  <tbody>\n",
       "    <tr>\n",
       "      <th>Muy corto (0.00 - 164.96)</th>\n",
       "      <td>70</td>\n",
       "    </tr>\n",
       "    <tr>\n",
       "      <th>Corto (164.96 - 329.92)</th>\n",
       "      <td>33</td>\n",
       "    </tr>\n",
       "    <tr>\n",
       "      <th>Relativamente corto (329.92 - 494.87)</th>\n",
       "      <td>14</td>\n",
       "    </tr>\n",
       "  </tbody>\n",
       "</table>\n",
       "</div>"
      ],
      "text/plain": [
       "                                       frequency\n",
       "tiempo de sesión                                \n",
       "Muy corto (0.00 - 164.96)                     70\n",
       "Corto (164.96 - 329.92)                       33\n",
       "Relativamente corto (329.92 - 494.87)         14"
      ]
     },
     "execution_count": 124,
     "metadata": {},
     "output_type": "execute_result"
    }
   ],
   "source": [
    "#Obtenemos un análisis univariado de la variable categórica y eliminamos las columnas \"percentage\" y \"cumulative_perc\"\n",
    "t__1= freq_tbl(df_sn['tiempo de sesión'])\n",
    "t__1 = t__1.drop(['percentage','cumulative_perc'], axis=1)\n",
    "#Creamos el filtro de los valores más representativos\n",
    "f__1= t__1[t__1['frequency']>7]\n",
    "#Ajustamos el indice del dataframe\n",
    "f__1= f__1.set_index('tiempo de sesión')\n",
    "f__1"
   ]
  },
  {
   "cell_type": "code",
   "execution_count": 125,
   "metadata": {},
   "outputs": [
    {
     "data": {
      "text/plain": [
       "<Axes: ylabel='frequency'>"
      ]
     },
     "execution_count": 125,
     "metadata": {},
     "output_type": "execute_result"
    },
    {
     "data": {
      "image/png": "[encoded data removed]",
      "text/plain": [
       "<Figure size 1000x500 with 1 Axes>"
      ]
     },
     "metadata": {},
     "output_type": "display_data"
    }
   ],
   "source": [
    "#Realizamos grafico de pastel del dataframe filtrado\n",
    "f__1[\"frequency\"].plot(kind='pie', figsize=(10,5), shadow=True, autopct=\"%0.1f %%\")"
   ]
  }
 ],
 "metadata": {
  "kernelspec": {
   "display_name": "Python 3",
   "language": "python",
   "name": "python3"
  },
  "language_info": {
   "codemirror_mode": {
    "name": "ipython",
    "version": 3
   },
   "file_extension": ".py",
   "mimetype": "text/x-python",
   "name": "python",
   "nbconvert_exporter": "python",
   "pygments_lexer": "ipython3",
   "version": "3.12.4"
  }
 },
 "nbformat": 4,
 "nbformat_minor": 2
}
